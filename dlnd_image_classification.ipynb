{
 "cells": [
  {
   "cell_type": "markdown",
   "metadata": {
    "collapsed": true
   },
   "source": [
    "# Image Classification\n",
    "In this project, you'll classify images from the [CIFAR-10 dataset](https://www.cs.toronto.edu/~kriz/cifar.html).  The dataset consists of airplanes, dogs, cats, and other objects. You'll preprocess the images, then train a convolutional neural network on all the samples. The images need to be normalized and the labels need to be one-hot encoded.  You'll get to apply what you learned and build a convolutional, max pooling, dropout, and fully connected layers.  At the end, you'll get to see your neural network's predictions on the sample images.\n",
    "## Get the Data\n",
    "Run the following cell to download the [CIFAR-10 dataset for python](https://www.cs.toronto.edu/~kriz/cifar-10-python.tar.gz)."
   ]
  },
  {
   "cell_type": "code",
   "execution_count": 1,
   "metadata": {},
   "outputs": [
    {
     "name": "stdout",
     "output_type": "stream",
     "text": [
      "All files found!\n"
     ]
    }
   ],
   "source": [
    "\"\"\"\n",
    "DON'T MODIFY ANYTHING IN THIS CELL THAT IS BELOW THIS LINE\n",
    "\"\"\"\n",
    "from urllib.request import urlretrieve\n",
    "from os.path import isfile, isdir\n",
    "from tqdm import tqdm\n",
    "import problem_unittests as tests\n",
    "import tarfile\n",
    "\n",
    "cifar10_dataset_folder_path = 'cifar-10-batches-py'\n",
    "\n",
    "# Use Floyd's cifar-10 dataset if present\n",
    "floyd_cifar10_location = '/input/cifar-10/python.tar.gz'\n",
    "if isfile(floyd_cifar10_location):\n",
    "    tar_gz_path = floyd_cifar10_location\n",
    "else:\n",
    "    tar_gz_path = 'cifar-10-python.tar.gz'\n",
    "\n",
    "class DLProgress(tqdm):\n",
    "    last_block = 0\n",
    "\n",
    "    def hook(self, block_num=1, block_size=1, total_size=None):\n",
    "        self.total = total_size\n",
    "        self.update((block_num - self.last_block) * block_size)\n",
    "        self.last_block = block_num\n",
    "\n",
    "if not isfile(tar_gz_path):\n",
    "    with DLProgress(unit='B', unit_scale=True, miniters=1, desc='CIFAR-10 Dataset') as pbar:\n",
    "        urlretrieve(\n",
    "            'https://www.cs.toronto.edu/~kriz/cifar-10-python.tar.gz',\n",
    "            tar_gz_path,\n",
    "            pbar.hook)\n",
    "\n",
    "if not isdir(cifar10_dataset_folder_path):\n",
    "    with tarfile.open(tar_gz_path) as tar:\n",
    "        tar.extractall()\n",
    "        tar.close()\n",
    "\n",
    "\n",
    "tests.test_folder_path(cifar10_dataset_folder_path)"
   ]
  },
  {
   "cell_type": "markdown",
   "metadata": {},
   "source": [
    "## Explore the Data\n",
    "The dataset is broken into batches to prevent your machine from running out of memory.  The CIFAR-10 dataset consists of 5 batches, named `data_batch_1`, `data_batch_2`, etc.. Each batch contains the labels and images that are one of the following:\n",
    "* airplane\n",
    "* automobile\n",
    "* bird\n",
    "* cat\n",
    "* deer\n",
    "* dog\n",
    "* frog\n",
    "* horse\n",
    "* ship\n",
    "* truck\n",
    "\n",
    "Understanding a dataset is part of making predictions on the data.  Play around with the code cell below by changing the `batch_id` and `sample_id`. The `batch_id` is the id for a batch (1-5). The `sample_id` is the id for a image and label pair in the batch.\n",
    "\n",
    "Ask yourself \"What are all possible labels?\", \"What is the range of values for the image data?\", \"Are the labels in order or random?\".  Answers to questions like these will help you preprocess the data and end up with better predictions."
   ]
  },
  {
   "cell_type": "code",
   "execution_count": 2,
   "metadata": {},
   "outputs": [
    {
     "name": "stdout",
     "output_type": "stream",
     "text": [
      "\n",
      "Stats of batch 1:\n",
      "Samples: 10000\n",
      "Label Counts: {0: 1005, 1: 974, 2: 1032, 3: 1016, 4: 999, 5: 937, 6: 1030, 7: 1001, 8: 1025, 9: 981}\n",
      "First 20 Labels: [6, 9, 9, 4, 1, 1, 2, 7, 8, 3, 4, 7, 7, 2, 9, 9, 9, 3, 2, 6]\n",
      "\n",
      "Example of Image 5:\n",
      "Image - Min Value: 0 Max Value: 252\n",
      "Image - Shape: (32, 32, 3)\n",
      "Label - Label Id: 1 Name: automobile\n"
     ]
    },
    {
     "data": {
      "image/png": "[encoded data removed]",
      "text/plain": [
       "<matplotlib.figure.Figure at 0x7f71c41b24a8>"
      ]
     },
     "metadata": {
      "image/png": {
       "height": 250,
       "width": 253
      }
     },
     "output_type": "display_data"
    }
   ],
   "source": [
    "%matplotlib inline\n",
    "%config InlineBackend.figure_format = 'retina'\n",
    "\n",
    "import helper\n",
    "import numpy as np\n",
    "\n",
    "# Explore the dataset\n",
    "batch_id = 1\n",
    "sample_id = 5\n",
    "helper.display_stats(cifar10_dataset_folder_path, batch_id, sample_id)"
   ]
  },
  {
   "cell_type": "markdown",
   "metadata": {},
   "source": [
    "## Implement Preprocess Functions\n",
    "### Normalize\n",
    "In the cell below, implement the `normalize` function to take in image data, `x`, and return it as a normalized Numpy array. The values should be in the range of 0 to 1, inclusive.  The return object should be the same shape as `x`."
   ]
  },
  {
   "cell_type": "code",
   "execution_count": 3,
   "metadata": {},
   "outputs": [
    {
     "name": "stdout",
     "output_type": "stream",
     "text": [
      "Tests Passed\n"
     ]
    }
   ],
   "source": [
    "def normalize(x):\n",
    "    \"\"\"\n",
    "    Normalize a list of sample image data in the range of 0 to 1\n",
    "    : x: List of image data.  The image shape is (32, 32, 3)\n",
    "    : return: Numpy array of normalize data\n",
    "    \"\"\"\n",
    "    # TODO: Implement Function\n",
    "    high = 1.0\n",
    "    low = 0.0\n",
    "    mins = np.min(x, axis=0)\n",
    "    maxs = np.max(x, axis=0)\n",
    "    rng = maxs - mins\n",
    "    return (high - (((high-low) * (maxs - x)) / rng))\n",
    "\n",
    "\n",
    "\"\"\"\n",
    "DON'T MODIFY ANYTHING IN THIS CELL THAT IS BELOW THIS LINE\n",
    "\"\"\"\n",
    "tests.test_normalize(normalize)"
   ]
  },
  {
   "cell_type": "markdown",
   "metadata": {},
   "source": [
    "### One-hot encode\n",
    "Just like the previous code cell, you'll be implementing a function for preprocessing.  This time, you'll implement the `one_hot_encode` function. The input, `x`, are a list of labels.  Implement the function to return the list of labels as One-Hot encoded Numpy array.  The possible values for labels are 0 to 9. The one-hot encoding function should return the same encoding for each value between each call to `one_hot_encode`.  Make sure to save the map of encodings outside the function.\n",
    "\n",
    "Hint: Don't reinvent the wheel."
   ]
  },
  {
   "cell_type": "code",
   "execution_count": 4,
   "metadata": {},
   "outputs": [
    {
     "name": "stdout",
     "output_type": "stream",
     "text": [
      "Tests Passed\n"
     ]
    }
   ],
   "source": [
    "def one_hot_encode(x):\n",
    "    \"\"\"\n",
    "    One hot encode a list of sample labels. Return a one-hot encoded vector for each label.\n",
    "    : x: List of sample Labels\n",
    "    : return: Numpy array of one-hot encoded labels\n",
    "    \"\"\"\n",
    "    # TODO: Implement Function\n",
    "    return np.eye(10, dtype=int)[x]\n",
    "\n",
    "\n",
    "\"\"\"\n",
    "DON'T MODIFY ANYTHING IN THIS CELL THAT IS BELOW THIS LINE\n",
    "\"\"\"\n",
    "tests.test_one_hot_encode(one_hot_encode)"
   ]
  },
  {
   "cell_type": "markdown",
   "metadata": {},
   "source": [
    "### Randomize Data\n",
    "As you saw from exploring the data above, the order of the samples are randomized.  It doesn't hurt to randomize it again, but you don't need to for this dataset."
   ]
  },
  {
   "cell_type": "markdown",
   "metadata": {},
   "source": [
    "## Preprocess all the data and save it\n",
    "Running the code cell below will preprocess all the CIFAR-10 data and save it to file. The code below also uses 10% of the training data for validation."
   ]
  },
  {
   "cell_type": "code",
   "execution_count": 5,
   "metadata": {
    "collapsed": true
   },
   "outputs": [],
   "source": [
    "\"\"\"\n",
    "DON'T MODIFY ANYTHING IN THIS CELL\n",
    "\"\"\"\n",
    "# Preprocess Training, Validation, and Testing Data\n",
    "helper.preprocess_and_save_data(cifar10_dataset_folder_path, normalize, one_hot_encode)"
   ]
  },
  {
   "cell_type": "markdown",
   "metadata": {},
   "source": [
    "# Check Point\n",
    "This is your first checkpoint.  If you ever decide to come back to this notebook or have to restart the notebook, you can start from here.  The preprocessed data has been saved to disk."
   ]
  },
  {
   "cell_type": "code",
   "execution_count": 6,
   "metadata": {
    "collapsed": true
   },
   "outputs": [],
   "source": [
    "\"\"\"\n",
    "DON'T MODIFY ANYTHING IN THIS CELL\n",
    "\"\"\"\n",
    "import pickle\n",
    "import problem_unittests as tests\n",
    "import helper\n",
    "\n",
    "# Load the Preprocessed Validation data\n",
    "valid_features, valid_labels = pickle.load(open('preprocess_validation.p', mode='rb'))"
   ]
  },
  {
   "cell_type": "markdown",
   "metadata": {},
   "source": [
    "## Build the network\n",
    "For the neural network, you'll build each layer into a function.  Most of the code you've seen has been outside of functions. To test your code more thoroughly, we require that you put each layer in a function.  This allows us to give you better feedback and test for simple mistakes using our unittests before you submit your project.\n",
    "\n",
    ">**Note:** If you're finding it hard to dedicate enough time for this course each week, we've provided a small shortcut to this part of the project. In the next couple of problems, you'll have the option to use classes from the [TensorFlow Layers](https://www.tensorflow.org/api_docs/python/tf/layers) or [TensorFlow Layers (contrib)](https://www.tensorflow.org/api_guides/python/contrib.layers) packages to build each layer, except the layers you build in the \"Convolutional and Max Pooling Layer\" section.  TF Layers is similar to Keras's and TFLearn's abstraction to layers, so it's easy to pickup.\n",
    "\n",
    ">However, if you would like to get the most out of this course, try to solve all the problems _without_ using anything from the TF Layers packages. You **can** still use classes from other packages that happen to have the same name as ones you find in TF Layers! For example, instead of using the TF Layers version of the `conv2d` class, [tf.layers.conv2d](https://www.tensorflow.org/api_docs/python/tf/layers/conv2d), you would want to use the TF Neural Network version of `conv2d`, [tf.nn.conv2d](https://www.tensorflow.org/api_docs/python/tf/nn/conv2d). \n",
    "\n",
    "Let's begin!\n",
    "\n",
    "### Input\n",
    "The neural network needs to read the image data, one-hot encoded labels, and dropout keep probability. Implement the following functions\n",
    "* Implement `neural_net_image_input`\n",
    " * Return a [TF Placeholder](https://www.tensorflow.org/api_docs/python/tf/placeholder)\n",
    " * Set the shape using `image_shape` with batch size set to `None`.\n",
    " * Name the TensorFlow placeholder \"x\" using the TensorFlow `name` parameter in the [TF Placeholder](https://www.tensorflow.org/api_docs/python/tf/placeholder).\n",
    "* Implement `neural_net_label_input`\n",
    " * Return a [TF Placeholder](https://www.tensorflow.org/api_docs/python/tf/placeholder)\n",
    " * Set the shape using `n_classes` with batch size set to `None`.\n",
    " * Name the TensorFlow placeholder \"y\" using the TensorFlow `name` parameter in the [TF Placeholder](https://www.tensorflow.org/api_docs/python/tf/placeholder).\n",
    "* Implement `neural_net_keep_prob_input`\n",
    " * Return a [TF Placeholder](https://www.tensorflow.org/api_docs/python/tf/placeholder) for dropout keep probability.\n",
    " * Name the TensorFlow placeholder \"keep_prob\" using the TensorFlow `name` parameter in the [TF Placeholder](https://www.tensorflow.org/api_docs/python/tf/placeholder).\n",
    "\n",
    "These names will be used at the end of the project to load your saved model.\n",
    "\n",
    "Note: `None` for shapes in TensorFlow allow for a dynamic size."
   ]
  },
  {
   "cell_type": "code",
   "execution_count": 7,
   "metadata": {},
   "outputs": [
    {
     "name": "stdout",
     "output_type": "stream",
     "text": [
      "Image Input Tests Passed.\n",
      "Label Input Tests Passed.\n",
      "Keep Prob Tests Passed.\n"
     ]
    }
   ],
   "source": [
    "import tensorflow as tf\n",
    "\n",
    "def neural_net_image_input(image_shape):\n",
    "    \"\"\"\n",
    "    Return a Tensor for a batch of image input\n",
    "    : image_shape: Shape of the images\n",
    "    : return: Tensor for image input.\n",
    "    \"\"\"\n",
    "    # TODO: Implement Function\n",
    "    image = tf.placeholder(tf.float32, shape=(None, image_shape[0], image_shape[1], image_shape[2]), name='x')\n",
    "    return image\n",
    "\n",
    "\n",
    "def neural_net_label_input(n_classes):\n",
    "    \"\"\"\n",
    "    Return a Tensor for a batch of label input\n",
    "    : n_classes: Number of classes\n",
    "    : return: Tensor for label input.\n",
    "    \"\"\"\n",
    "    # TODO: Implement Function\n",
    "    label = tf.placeholder(tf.float32, shape=(None, n_classes), name='y')\n",
    "    return label\n",
    "\n",
    "\n",
    "def neural_net_keep_prob_input():\n",
    "    \"\"\"\n",
    "    Return a Tensor for keep probability\n",
    "    : return: Tensor for keep probability.\n",
    "    \"\"\"\n",
    "    # TODO: Implement Function\n",
    "    keep_prob = tf.placeholder(tf.float32, shape=(None), name='keep_prob')\n",
    "    return keep_prob\n",
    "\n",
    "\n",
    "\"\"\"\n",
    "DON'T MODIFY ANYTHING IN THIS CELL THAT IS BELOW THIS LINE\n",
    "\"\"\"\n",
    "tf.reset_default_graph()\n",
    "tests.test_nn_image_inputs(neural_net_image_input)\n",
    "tests.test_nn_label_inputs(neural_net_label_input)\n",
    "tests.test_nn_keep_prob_inputs(neural_net_keep_prob_input)"
   ]
  },
  {
   "cell_type": "markdown",
   "metadata": {},
   "source": [
    "### Convolution and Max Pooling Layer\n",
    "Convolution layers have a lot of success with images. For this code cell, you should implement the function `conv2d_maxpool` to apply convolution then max pooling:\n",
    "* Create the weight and bias using `conv_ksize`, `conv_num_outputs` and the shape of `x_tensor`.\n",
    "* Apply a convolution to `x_tensor` using weight and `conv_strides`.\n",
    " * We recommend you use same padding, but you're welcome to use any padding.\n",
    "* Add bias\n",
    "* Add a nonlinear activation to the convolution.\n",
    "* Apply Max Pooling using `pool_ksize` and `pool_strides`.\n",
    " * We recommend you use same padding, but you're welcome to use any padding.\n",
    "\n",
    "**Note:** You **can't** use [TensorFlow Layers](https://www.tensorflow.org/api_docs/python/tf/layers) or [TensorFlow Layers (contrib)](https://www.tensorflow.org/api_guides/python/contrib.layers) for **this** layer, but you can still use TensorFlow's [Neural Network](https://www.tensorflow.org/api_docs/python/tf/nn) package. You may still use the shortcut option for all the **other** layers."
   ]
  },
  {
   "cell_type": "code",
   "execution_count": 8,
   "metadata": {},
   "outputs": [
    {
     "name": "stdout",
     "output_type": "stream",
     "text": [
      "Tests Passed\n"
     ]
    }
   ],
   "source": [
    "def conv2d_maxpool(x_tensor, conv_num_outputs, conv_ksize, conv_strides, pool_ksize, pool_strides):\n",
    "    \"\"\"\n",
    "    Apply convolution then max pooling to x_tensor\n",
    "    :param x_tensor: TensorFlow Tensor\n",
    "    :param conv_num_outputs: Number of outputs for the convolutional layer\n",
    "    :param conv_ksize: kernal size 2-D Tuple for the convolutional layer\n",
    "    :param conv_strides: Stride 2-D Tuple for convolution\n",
    "    :param pool_ksize: kernal size 2-D Tuple for pool\n",
    "    :param pool_strides: Stride 2-D Tuple for pool\n",
    "    : return: A tensor that represents convolution and max pooling of x_tensor\n",
    "    \"\"\"\n",
    "    # TODO: Implement Function\n",
    "    x_shape = x_tensor.get_shape().as_list()\n",
    "    W = tf.Variable(tf.truncated_normal((conv_ksize[0], conv_ksize[1], x_shape[3], conv_num_outputs)))\n",
    "    b = tf.Variable(tf.zeros(conv_num_outputs))\n",
    "    \n",
    "    #Convolution_layer\n",
    "    conv_x = tf.nn.conv2d(x_tensor, W, strides=[1, conv_strides[0], conv_strides[1], 1], padding=\"SAME\")\n",
    "    x_output = tf.nn.bias_add(conv_x, b)\n",
    "    y_output = tf.nn.relu(x_output)\n",
    "    \n",
    "    #max_pooling\n",
    "    output_max_pool = tf.nn.max_pool(y_output, ksize=[1, pool_ksize[0], pool_ksize[1], 1], strides=[1, pool_strides[0], pool_strides[1], 1], padding=\"SAME\")\n",
    "    return output_max_pool\n",
    "\n",
    "\n",
    "\"\"\"\n",
    "DON'T MODIFY ANYTHING IN THIS CELL THAT IS BELOW THIS LINE\n",
    "\"\"\"\n",
    "tests.test_con_pool(conv2d_maxpool)"
   ]
  },
  {
   "cell_type": "markdown",
   "metadata": {},
   "source": [
    "### Flatten Layer\n",
    "Implement the `flatten` function to change the dimension of `x_tensor` from a 4-D tensor to a 2-D tensor.  The output should be the shape (*Batch Size*, *Flattened Image Size*). Shortcut option: you can use classes from the [TensorFlow Layers](https://www.tensorflow.org/api_docs/python/tf/layers) or [TensorFlow Layers (contrib)](https://www.tensorflow.org/api_guides/python/contrib.layers) packages for this layer. For more of a challenge, only use other TensorFlow packages."
   ]
  },
  {
   "cell_type": "code",
   "execution_count": 9,
   "metadata": {},
   "outputs": [
    {
     "name": "stdout",
     "output_type": "stream",
     "text": [
      "Tests Passed\n"
     ]
    }
   ],
   "source": [
    "def flatten(x_tensor):\n",
    "    \"\"\"\n",
    "    Flatten x_tensor to (Batch Size, Flattened Image Size)\n",
    "    : x_tensor: A tensor of size (Batch Size, ...), where ... are the image dimensions.\n",
    "    : return: A tensor of size (Batch Size, Flattened Image Size).\n",
    "    \"\"\"\n",
    "    # TODO: Implement Function\n",
    "    shape = x_tensor.get_shape().as_list()\n",
    "    dim = np.prod(shape[1:])\n",
    "    return tf.reshape(x_tensor, [-1, dim])\n",
    "\n",
    "\n",
    "\"\"\"\n",
    "DON'T MODIFY ANYTHING IN THIS CELL THAT IS BELOW THIS LINE\n",
    "\"\"\"\n",
    "tests.test_flatten(flatten)"
   ]
  },
  {
   "cell_type": "markdown",
   "metadata": {},
   "source": [
    "### Fully-Connected Layer\n",
    "Implement the `fully_conn` function to apply a fully connected layer to `x_tensor` with the shape (*Batch Size*, *num_outputs*). Shortcut option: you can use classes from the [TensorFlow Layers](https://www.tensorflow.org/api_docs/python/tf/layers) or [TensorFlow Layers (contrib)](https://www.tensorflow.org/api_guides/python/contrib.layers) packages for this layer. For more of a challenge, only use other TensorFlow packages."
   ]
  },
  {
   "cell_type": "code",
   "execution_count": 10,
   "metadata": {},
   "outputs": [
    {
     "name": "stdout",
     "output_type": "stream",
     "text": [
      "Tensor(\"fully_connected/Relu:0\", shape=(?, 40), dtype=float32)\n",
      "Tensor(\"dense/Relu:0\", shape=(?, 40), dtype=float32)\n",
      "Tests Passed\n"
     ]
    }
   ],
   "source": [
    "def fully_conn(x_tensor, num_outputs):\n",
    "    \"\"\"\n",
    "    Apply a fully connected layer to x_tensor using weight and bias\n",
    "    : x_tensor: A 2-D tensor where the first dimension is batch size.\n",
    "    : num_outputs: The number of output that the new tensor should be.\n",
    "    : return: A 2-D tensor where the second dimension is num_outputs.\n",
    "    \"\"\"\n",
    "    # TODO: Implement Function\n",
    "    print(tf.contrib.layers.fully_connected(x_tensor, num_outputs))\n",
    "    print(tf.layers.dense(x_tensor, num_outputs, tf.nn.relu))\n",
    "    return tf.layers.dense(x_tensor, num_outputs, tf.nn.relu)\n",
    "\n",
    "\n",
    "\"\"\"\n",
    "DON'T MODIFY ANYTHING IN THIS CELL THAT IS BELOW THIS LINE\n",
    "\"\"\"\n",
    "tests.test_fully_conn(fully_conn)"
   ]
  },
  {
   "cell_type": "markdown",
   "metadata": {},
   "source": [
    "### Output Layer\n",
    "Implement the `output` function to apply a fully connected layer to `x_tensor` with the shape (*Batch Size*, *num_outputs*). Shortcut option: you can use classes from the [TensorFlow Layers](https://www.tensorflow.org/api_docs/python/tf/layers) or [TensorFlow Layers (contrib)](https://www.tensorflow.org/api_guides/python/contrib.layers) packages for this layer. For more of a challenge, only use other TensorFlow packages.\n",
    "\n",
    "**Note:** Activation, softmax, or cross entropy should **not** be applied to this."
   ]
  },
  {
   "cell_type": "code",
   "execution_count": 11,
   "metadata": {},
   "outputs": [
    {
     "name": "stdout",
     "output_type": "stream",
     "text": [
      "Tests Passed\n"
     ]
    }
   ],
   "source": [
    "def output(x_tensor, num_outputs):\n",
    "    \"\"\"\n",
    "    Apply a output layer to x_tensor using weight and bias\n",
    "    : x_tensor: A 2-D tensor where the first dimension is batch size.\n",
    "    : num_outputs: The number of output that the new tensor should be.\n",
    "    : return: A 2-D tensor where the second dimension is num_outputs.\n",
    "    \"\"\"\n",
    "    # TODO: Implement Function\n",
    "    return tf.layers.dense(x_tensor, num_outputs)\n",
    "\n",
    "\n",
    "\"\"\"\n",
    "DON'T MODIFY ANYTHING IN THIS CELL THAT IS BELOW THIS LINE\n",
    "\"\"\"\n",
    "tests.test_output(output)"
   ]
  },
  {
   "cell_type": "markdown",
   "metadata": {},
   "source": [
    "### Create Convolutional Model\n",
    "Implement the function `conv_net` to create a convolutional neural network model. The function takes in a batch of images, `x`, and outputs logits.  Use the layers you created above to create this model:\n",
    "\n",
    "* Apply 1, 2, or 3 Convolution and Max Pool layers\n",
    "* Apply a Flatten Layer\n",
    "* Apply 1, 2, or 3 Fully Connected Layers\n",
    "* Apply an Output Layer\n",
    "* Return the output\n",
    "* Apply [TensorFlow's Dropout](https://www.tensorflow.org/api_docs/python/tf/nn/dropout) to one or more layers in the model using `keep_prob`. "
   ]
  },
  {
   "cell_type": "code",
   "execution_count": 12,
   "metadata": {},
   "outputs": [
    {
     "name": "stdout",
     "output_type": "stream",
     "text": [
      "Tensor(\"fully_connected/Relu:0\", shape=(?, 1024), dtype=float32)\n",
      "Tensor(\"dense/Relu:0\", shape=(?, 1024), dtype=float32)\n",
      "Tensor(\"fully_connected_1/Relu:0\", shape=(?, 1024), dtype=float32)\n",
      "Tensor(\"dense_4/Relu:0\", shape=(?, 1024), dtype=float32)\n",
      "Neural Network Built!\n"
     ]
    }
   ],
   "source": [
    "def conv_net(x, keep_prob):\n",
    "    \"\"\"\n",
    "    Create a convolutional neural network model\n",
    "    : x: Placeholder tensor that holds image data.\n",
    "    : keep_prob: Placeholder tensor that hold dropout keep probability.\n",
    "    : return: Tensor that represents logits\n",
    "    \"\"\"\n",
    "    # TODO: Apply 1, 2, or 3 Convolution and Max Pool layers\n",
    "    #    Play around with different number of outputs, kernel size and stride\n",
    "    # Function Definition from Above:\n",
    "    #    conv2d_maxpool(x_tensor, conv_num_outputs, conv_ksize, conv_strides, pool_ksize, pool_strides)\n",
    "    x_tensor = conv2d_maxpool(x, 8, [3, 3], [1, 1], [1, 1], [1, 1])\n",
    "    x_tensor = conv2d_maxpool(x_tensor, 16, [3, 3], [2, 2], [1, 1], [1, 1])\n",
    "    x_tensor = conv2d_maxpool(x_tensor, 32, [3, 3], [1, 1], [2, 2], [2, 2])\n",
    "    #x_tensor = conv2d_maxpool(x_tensor, 64, [4, 4], [2, 2], [2, 2], [2, 2])\n",
    "\n",
    "    # TODO: Apply a Flatten Layer\n",
    "    # Function Definition from Above:\n",
    "    #   flatten(x_tensor)\n",
    "    x_tensor = flatten(x_tensor)\n",
    "\n",
    "    # TODO: Apply 1, 2, or 3 Fully Connected Layers\n",
    "    #    Play around with different number of outputs\n",
    "    # Function Definition from Above:\n",
    "    #   fully_conn(x_tensor, num_outputs)\n",
    "    #x_tensor = fully_conn(x_tensor, 512)\n",
    "    #x_tensor = fully_conn(x_tensor, 2048)\n",
    "    x_tensor = fully_conn(x_tensor, 1024)\n",
    "    x_tensor = tf.nn.dropout(x_tensor, keep_prob)\n",
    "    \n",
    "    # TODO: Apply an Output Layer\n",
    "    #    Set this to the number of classes\n",
    "    # Function Definition from Above:\n",
    "    #   output(x_tensor, num_outputs)\n",
    "    x_tensor = output(x_tensor, 10)\n",
    "    \n",
    "    # TODO: return output\n",
    "    return x_tensor\n",
    "\n",
    "\n",
    "\"\"\"\n",
    "DON'T MODIFY ANYTHING IN THIS CELL THAT IS BELOW THIS LINE\n",
    "\"\"\"\n",
    "\n",
    "##############################\n",
    "## Build the Neural Network ##\n",
    "##############################\n",
    "\n",
    "# Remove previous weights, bias, inputs, etc..\n",
    "tf.reset_default_graph()\n",
    "\n",
    "# Inputs\n",
    "x = neural_net_image_input((32, 32, 3))\n",
    "y = neural_net_label_input(10)\n",
    "keep_prob = neural_net_keep_prob_input()\n",
    "\n",
    "# Model\n",
    "logits = conv_net(x, keep_prob)\n",
    "\n",
    "# Name logits Tensor, so that is can be loaded from disk after training\n",
    "logits = tf.identity(logits, name='logits')\n",
    "\n",
    "# Loss and Optimizer\n",
    "cost = tf.reduce_mean(tf.nn.softmax_cross_entropy_with_logits(logits=logits, labels=y))\n",
    "optimizer = tf.train.AdamOptimizer().minimize(cost)\n",
    "\n",
    "# Accuracy\n",
    "correct_pred = tf.equal(tf.argmax(logits, 1), tf.argmax(y, 1))\n",
    "accuracy = tf.reduce_mean(tf.cast(correct_pred, tf.float32), name='accuracy')\n",
    "\n",
    "tests.test_conv_net(conv_net)"
   ]
  },
  {
   "cell_type": "markdown",
   "metadata": {},
   "source": [
    "## Train the Neural Network\n",
    "### Single Optimization\n",
    "Implement the function `train_neural_network` to do a single optimization.  The optimization should use `optimizer` to optimize in `session` with a `feed_dict` of the following:\n",
    "* `x` for image input\n",
    "* `y` for labels\n",
    "* `keep_prob` for keep probability for dropout\n",
    "\n",
    "This function will be called for each batch, so `tf.global_variables_initializer()` has already been called.\n",
    "\n",
    "Note: Nothing needs to be returned. This function is only optimizing the neural network."
   ]
  },
  {
   "cell_type": "code",
   "execution_count": 13,
   "metadata": {},
   "outputs": [
    {
     "name": "stdout",
     "output_type": "stream",
     "text": [
      "Tests Passed\n"
     ]
    }
   ],
   "source": [
    "def train_neural_network(session, optimizer, keep_probability, feature_batch, label_batch):\n",
    "    \"\"\"\n",
    "    Optimize the session on a batch of images and labels\n",
    "    : session: Current TensorFlow session\n",
    "    : optimizer: TensorFlow optimizer function\n",
    "    : keep_probability: keep probability\n",
    "    : feature_batch: Batch of Numpy image data\n",
    "    : label_batch: Batch of Numpy label data\n",
    "    \"\"\"\n",
    "    # TODO: Implement Function\n",
    "    session.run(optimizer, feed_dict={x:feature_batch, y:label_batch, keep_prob:keep_probability})\n",
    "\n",
    "\n",
    "\"\"\"\n",
    "DON'T MODIFY ANYTHING IN THIS CELL THAT IS BELOW THIS LINE\n",
    "\"\"\"\n",
    "tests.test_train_nn(train_neural_network)"
   ]
  },
  {
   "cell_type": "markdown",
   "metadata": {},
   "source": [
    "### Show Stats\n",
    "Implement the function `print_stats` to print loss and validation accuracy.  Use the global variables `valid_features` and `valid_labels` to calculate validation accuracy.  Use a keep probability of `1.0` to calculate the loss and validation accuracy."
   ]
  },
  {
   "cell_type": "code",
   "execution_count": 14,
   "metadata": {
    "collapsed": true
   },
   "outputs": [],
   "source": [
    "def print_stats(session, feature_batch, label_batch, cost, accuracy):\n",
    "    \"\"\"\n",
    "    Print information about loss and validation accuracy\n",
    "    : session: Current TensorFlow session\n",
    "    : feature_batch: Batch of Numpy image data\n",
    "    : label_batch: Batch of Numpy label data\n",
    "    : cost: TensorFlow cost function\n",
    "    : accuracy: TensorFlow accuracy function\n",
    "    \"\"\"\n",
    "    # TODO: Implement Function\n",
    "    loss = session.run(cost, feed_dict={\n",
    "        x:feature_batch,\n",
    "        y:label_batch,\n",
    "        keep_prob: 1\n",
    "    })\n",
    "    \n",
    "    acc = session.run(accuracy,feed_dict={\n",
    "        x:valid_features,\n",
    "        y:valid_labels,\n",
    "        keep_prob: 1\n",
    "    })\n",
    "\n",
    "    print(\"Loss= \" + \"{:.6f}\".format(loss) + \", Training Accuracy= \" + \\\n",
    "                  \"{:.5f}\".format(acc))\n",
    "    #print(\"Loss: \" + loss + \" Acc: \" + acc)"
   ]
  },
  {
   "cell_type": "markdown",
   "metadata": {},
   "source": [
    "### Hyperparameters\n",
    "Tune the following parameters:\n",
    "* Set `epochs` to the number of iterations until the network stops learning or start overfitting\n",
    "* Set `batch_size` to the highest number that your machine has memory for.  Most people set them to common sizes of memory:\n",
    " * 64\n",
    " * 128\n",
    " * 256\n",
    " * ...\n",
    "* Set `keep_probability` to the probability of keeping a node using dropout"
   ]
  },
  {
   "cell_type": "code",
   "execution_count": 19,
   "metadata": {
    "collapsed": true
   },
   "outputs": [],
   "source": [
    "# TODO: Tune Parameters\n",
    "epochs = 50\n",
    "batch_size = 512\n",
    "keep_probability = 0.6"
   ]
  },
  {
   "cell_type": "markdown",
   "metadata": {},
   "source": [
    "### Train on a Single CIFAR-10 Batch\n",
    "Instead of training the neural network on all the CIFAR-10 batches of data, let's use a single batch. This should save time while you iterate on the model to get a better accuracy.  Once the final validation accuracy is 50% or greater, run the model on all the data in the next section."
   ]
  },
  {
   "cell_type": "code",
   "execution_count": 16,
   "metadata": {},
   "outputs": [
    {
     "name": "stdout",
     "output_type": "stream",
     "text": [
      "Checking the Training on a Single Batch...\n",
      "Epoch  1, CIFAR-10 Batch 1:  Loss= 28.609440, Training Accuracy= 0.14400\n",
      "Epoch  2, CIFAR-10 Batch 1:  Loss= 2.281362, Training Accuracy= 0.11760\n",
      "Epoch  3, CIFAR-10 Batch 1:  Loss= 2.282033, Training Accuracy= 0.11000\n",
      "Epoch  4, CIFAR-10 Batch 1:  Loss= 2.275598, Training Accuracy= 0.11120\n",
      "Epoch  5, CIFAR-10 Batch 1:  Loss= 2.262388, Training Accuracy= 0.11040\n",
      "Epoch  6, CIFAR-10 Batch 1:  Loss= 2.254227, Training Accuracy= 0.10980\n",
      "Epoch  7, CIFAR-10 Batch 1:  Loss= 2.246112, Training Accuracy= 0.11960\n",
      "Epoch  8, CIFAR-10 Batch 1:  Loss= 2.246087, Training Accuracy= 0.11840\n",
      "Epoch  9, CIFAR-10 Batch 1:  Loss= 2.241287, Training Accuracy= 0.12180\n",
      "Epoch 10, CIFAR-10 Batch 1:  Loss= 2.236730, Training Accuracy= 0.12400\n",
      "Epoch 11, CIFAR-10 Batch 1:  Loss= 2.243109, Training Accuracy= 0.12620\n",
      "Epoch 12, CIFAR-10 Batch 1:  Loss= 2.232482, Training Accuracy= 0.12720\n",
      "Epoch 13, CIFAR-10 Batch 1:  Loss= 2.229905, Training Accuracy= 0.13860\n",
      "Epoch 14, CIFAR-10 Batch 1:  Loss= 2.204197, Training Accuracy= 0.14720\n",
      "Epoch 15, CIFAR-10 Batch 1:  Loss= 2.174192, Training Accuracy= 0.15700\n",
      "Epoch 16, CIFAR-10 Batch 1:  Loss= 2.173736, Training Accuracy= 0.15380\n",
      "Epoch 17, CIFAR-10 Batch 1:  Loss= 2.164217, Training Accuracy= 0.15880\n",
      "Epoch 18, CIFAR-10 Batch 1:  Loss= 2.148983, Training Accuracy= 0.17000\n",
      "Epoch 19, CIFAR-10 Batch 1:  Loss= 2.120080, Training Accuracy= 0.17560\n",
      "Epoch 20, CIFAR-10 Batch 1:  Loss= 2.132343, Training Accuracy= 0.17460\n",
      "Epoch 21, CIFAR-10 Batch 1:  Loss= 2.116011, Training Accuracy= 0.19120\n",
      "Epoch 22, CIFAR-10 Batch 1:  Loss= 2.085475, Training Accuracy= 0.18440\n",
      "Epoch 23, CIFAR-10 Batch 1:  Loss= 2.086488, Training Accuracy= 0.18640\n",
      "Epoch 24, CIFAR-10 Batch 1:  Loss= 2.049932, Training Accuracy= 0.19040\n",
      "Epoch 25, CIFAR-10 Batch 1:  Loss= 2.071575, Training Accuracy= 0.18260\n",
      "Epoch 26, CIFAR-10 Batch 1:  Loss= 2.045927, Training Accuracy= 0.21220\n",
      "Epoch 27, CIFAR-10 Batch 1:  Loss= 2.027035, Training Accuracy= 0.22220\n",
      "Epoch 28, CIFAR-10 Batch 1:  Loss= 2.007949, Training Accuracy= 0.23460\n",
      "Epoch 29, CIFAR-10 Batch 1:  Loss= 1.977266, Training Accuracy= 0.24760\n",
      "Epoch 30, CIFAR-10 Batch 1:  Loss= 1.977923, Training Accuracy= 0.24080\n",
      "Epoch 31, CIFAR-10 Batch 1:  Loss= 1.955092, Training Accuracy= 0.25440\n",
      "Epoch 32, CIFAR-10 Batch 1:  Loss= 1.922523, Training Accuracy= 0.26680\n",
      "Epoch 33, CIFAR-10 Batch 1:  Loss= 1.892069, Training Accuracy= 0.27240\n",
      "Epoch 34, CIFAR-10 Batch 1:  Loss= 1.891852, Training Accuracy= 0.26900\n",
      "Epoch 35, CIFAR-10 Batch 1:  Loss= 1.869123, Training Accuracy= 0.27440\n",
      "Epoch 36, CIFAR-10 Batch 1:  Loss= 1.858372, Training Accuracy= 0.28300\n",
      "Epoch 37, CIFAR-10 Batch 1:  Loss= 1.848645, Training Accuracy= 0.26840\n",
      "Epoch 38, CIFAR-10 Batch 1:  Loss= 1.825246, Training Accuracy= 0.27860\n",
      "Epoch 39, CIFAR-10 Batch 1:  Loss= 1.811445, Training Accuracy= 0.28820\n",
      "Epoch 40, CIFAR-10 Batch 1:  Loss= 1.789431, Training Accuracy= 0.28480\n"
     ]
    }
   ],
   "source": [
    "\"\"\"\n",
    "DON'T MODIFY ANYTHING IN THIS CELL\n",
    "\"\"\"\n",
    "print('Checking the Training on a Single Batch...')\n",
    "with tf.Session() as sess:\n",
    "    # Initializing the variables\n",
    "    sess.run(tf.global_variables_initializer())\n",
    "    \n",
    "    # Training cycle\n",
    "    for epoch in range(epochs):\n",
    "        batch_i = 1\n",
    "        for batch_features, batch_labels in helper.load_preprocess_training_batch(batch_i, batch_size):\n",
    "            train_neural_network(sess, optimizer, keep_probability, batch_features, batch_labels)\n",
    "        print('Epoch {:>2}, CIFAR-10 Batch {}:  '.format(epoch + 1, batch_i), end='')\n",
    "        print_stats(sess, batch_features, batch_labels, cost, accuracy)"
   ]
  },
  {
   "cell_type": "markdown",
   "metadata": {},
   "source": [
    "### Fully Train the Model\n",
    "Now that you got a good accuracy with a single CIFAR-10 batch, try it with all five batches."
   ]
  },
  {
   "cell_type": "code",
   "execution_count": 20,
   "metadata": {},
   "outputs": [
    {
     "name": "stdout",
     "output_type": "stream",
     "text": [
      "Training...\n",
      "Epoch  1, CIFAR-10 Batch 1:  Loss= 9.079926, Training Accuracy= 0.19660\n",
      "Epoch  1, CIFAR-10 Batch 2:  Loss= 2.206727, Training Accuracy= 0.17760\n",
      "Epoch  1, CIFAR-10 Batch 3:  Loss= 2.199179, Training Accuracy= 0.17600\n",
      "Epoch  1, CIFAR-10 Batch 4:  Loss= 2.128822, Training Accuracy= 0.20380\n",
      "Epoch  1, CIFAR-10 Batch 5:  Loss= 2.144913, Training Accuracy= 0.20540\n",
      "Epoch  2, CIFAR-10 Batch 1:  Loss= 2.125623, Training Accuracy= 0.23400\n",
      "Epoch  2, CIFAR-10 Batch 2:  Loss= 2.024606, Training Accuracy= 0.24060\n",
      "Epoch  2, CIFAR-10 Batch 3:  Loss= 1.995584, Training Accuracy= 0.24840\n",
      "Epoch  2, CIFAR-10 Batch 4:  Loss= 1.895551, Training Accuracy= 0.26880\n",
      "Epoch  2, CIFAR-10 Batch 5:  Loss= 1.973252, Training Accuracy= 0.27980\n",
      "Epoch  3, CIFAR-10 Batch 1:  Loss= 1.993155, Training Accuracy= 0.27560\n",
      "Epoch  3, CIFAR-10 Batch 2:  Loss= 1.870051, Training Accuracy= 0.28800\n",
      "Epoch  3, CIFAR-10 Batch 3:  Loss= 1.862547, Training Accuracy= 0.28540\n",
      "Epoch  3, CIFAR-10 Batch 4:  Loss= 1.795427, Training Accuracy= 0.28860\n",
      "Epoch  3, CIFAR-10 Batch 5:  Loss= 1.857907, Training Accuracy= 0.29960\n",
      "Epoch  4, CIFAR-10 Batch 1:  Loss= 1.880674, Training Accuracy= 0.30140\n",
      "Epoch  4, CIFAR-10 Batch 2:  Loss= 1.781144, Training Accuracy= 0.31160\n",
      "Epoch  4, CIFAR-10 Batch 3:  Loss= 1.788979, Training Accuracy= 0.30560\n",
      "Epoch  4, CIFAR-10 Batch 4:  Loss= 1.693152, Training Accuracy= 0.33180\n",
      "Epoch  4, CIFAR-10 Batch 5:  Loss= 1.773382, Training Accuracy= 0.33240\n",
      "Epoch  5, CIFAR-10 Batch 1:  Loss= 1.777719, Training Accuracy= 0.35020\n",
      "Epoch  5, CIFAR-10 Batch 2:  Loss= 1.715847, Training Accuracy= 0.35360\n",
      "Epoch  5, CIFAR-10 Batch 3:  Loss= 1.689255, Training Accuracy= 0.34620\n",
      "Epoch  5, CIFAR-10 Batch 4:  Loss= 1.623230, Training Accuracy= 0.36660\n",
      "Epoch  5, CIFAR-10 Batch 5:  Loss= 1.719983, Training Accuracy= 0.37520\n",
      "Epoch  6, CIFAR-10 Batch 1:  Loss= 1.701743, Training Accuracy= 0.38020\n",
      "Epoch  6, CIFAR-10 Batch 2:  Loss= 1.655755, Training Accuracy= 0.37700\n",
      "Epoch  6, CIFAR-10 Batch 3:  Loss= 1.604111, Training Accuracy= 0.37580\n",
      "Epoch  6, CIFAR-10 Batch 4:  Loss= 1.532977, Training Accuracy= 0.37680\n",
      "Epoch  6, CIFAR-10 Batch 5:  Loss= 1.641269, Training Accuracy= 0.38220\n",
      "Epoch  7, CIFAR-10 Batch 1:  Loss= 1.650990, Training Accuracy= 0.39700\n",
      "Epoch  7, CIFAR-10 Batch 2:  Loss= 1.600017, Training Accuracy= 0.38600\n",
      "Epoch  7, CIFAR-10 Batch 3:  Loss= 1.554533, Training Accuracy= 0.39500\n",
      "Epoch  7, CIFAR-10 Batch 4:  Loss= 1.443503, Training Accuracy= 0.41680\n",
      "Epoch  7, CIFAR-10 Batch 5:  Loss= 1.524426, Training Accuracy= 0.41080\n",
      "Epoch  8, CIFAR-10 Batch 1:  Loss= 1.567171, Training Accuracy= 0.43200\n",
      "Epoch  8, CIFAR-10 Batch 2:  Loss= 1.501595, Training Accuracy= 0.41340\n",
      "Epoch  8, CIFAR-10 Batch 3:  Loss= 1.442229, Training Accuracy= 0.41500\n",
      "Epoch  8, CIFAR-10 Batch 4:  Loss= 1.371915, Training Accuracy= 0.44640\n",
      "Epoch  8, CIFAR-10 Batch 5:  Loss= 1.441555, Training Accuracy= 0.45160\n",
      "Epoch  9, CIFAR-10 Batch 1:  Loss= 1.509254, Training Accuracy= 0.44660\n",
      "Epoch  9, CIFAR-10 Batch 2:  Loss= 1.440549, Training Accuracy= 0.42340\n",
      "Epoch  9, CIFAR-10 Batch 3:  Loss= 1.405918, Training Accuracy= 0.44240\n",
      "Epoch  9, CIFAR-10 Batch 4:  Loss= 1.364061, Training Accuracy= 0.44380\n",
      "Epoch  9, CIFAR-10 Batch 5:  Loss= 1.365452, Training Accuracy= 0.45280\n",
      "Epoch 10, CIFAR-10 Batch 1:  Loss= 1.459553, Training Accuracy= 0.45480\n",
      "Epoch 10, CIFAR-10 Batch 2:  Loss= 1.375718, Training Accuracy= 0.45220\n",
      "Epoch 10, CIFAR-10 Batch 3:  Loss= 1.352008, Training Accuracy= 0.45540\n",
      "Epoch 10, CIFAR-10 Batch 4:  Loss= 1.301744, Training Accuracy= 0.47380\n",
      "Epoch 10, CIFAR-10 Batch 5:  Loss= 1.293293, Training Accuracy= 0.47320\n",
      "Epoch 11, CIFAR-10 Batch 1:  Loss= 1.408155, Training Accuracy= 0.47180\n",
      "Epoch 11, CIFAR-10 Batch 2:  Loss= 1.325737, Training Accuracy= 0.44740\n",
      "Epoch 11, CIFAR-10 Batch 3:  Loss= 1.267505, Training Accuracy= 0.47340\n",
      "Epoch 11, CIFAR-10 Batch 4:  Loss= 1.299099, Training Accuracy= 0.48080\n",
      "Epoch 11, CIFAR-10 Batch 5:  Loss= 1.279896, Training Accuracy= 0.48080\n",
      "Epoch 12, CIFAR-10 Batch 1:  Loss= 1.391265, Training Accuracy= 0.47800\n",
      "Epoch 12, CIFAR-10 Batch 2:  Loss= 1.290464, Training Accuracy= 0.48800\n",
      "Epoch 12, CIFAR-10 Batch 3:  Loss= 1.234080, Training Accuracy= 0.48240\n",
      "Epoch 12, CIFAR-10 Batch 4:  Loss= 1.246927, Training Accuracy= 0.48920\n",
      "Epoch 12, CIFAR-10 Batch 5:  Loss= 1.189183, Training Accuracy= 0.50100\n",
      "Epoch 13, CIFAR-10 Batch 1:  Loss= 1.348133, Training Accuracy= 0.49500\n",
      "Epoch 13, CIFAR-10 Batch 2:  Loss= 1.247571, Training Accuracy= 0.48620\n",
      "Epoch 13, CIFAR-10 Batch 3:  Loss= 1.213545, Training Accuracy= 0.47460\n",
      "Epoch 13, CIFAR-10 Batch 4:  Loss= 1.229632, Training Accuracy= 0.49280\n",
      "Epoch 13, CIFAR-10 Batch 5:  Loss= 1.185728, Training Accuracy= 0.50060\n",
      "Epoch 14, CIFAR-10 Batch 1:  Loss= 1.300569, Training Accuracy= 0.50060\n",
      "Epoch 14, CIFAR-10 Batch 2:  Loss= 1.224925, Training Accuracy= 0.49920\n",
      "Epoch 14, CIFAR-10 Batch 3:  Loss= 1.155738, Training Accuracy= 0.49580\n",
      "Epoch 14, CIFAR-10 Batch 4:  Loss= 1.185966, Training Accuracy= 0.50980\n",
      "Epoch 14, CIFAR-10 Batch 5:  Loss= 1.179040, Training Accuracy= 0.49940\n",
      "Epoch 15, CIFAR-10 Batch 1:  Loss= 1.229740, Training Accuracy= 0.50780\n",
      "Epoch 15, CIFAR-10 Batch 2:  Loss= 1.231080, Training Accuracy= 0.49880\n",
      "Epoch 15, CIFAR-10 Batch 3:  Loss= 1.151055, Training Accuracy= 0.50360\n",
      "Epoch 15, CIFAR-10 Batch 4:  Loss= 1.158626, Training Accuracy= 0.51840\n",
      "Epoch 15, CIFAR-10 Batch 5:  Loss= 1.117001, Training Accuracy= 0.52040\n",
      "Epoch 16, CIFAR-10 Batch 1:  Loss= 1.201994, Training Accuracy= 0.50540\n",
      "Epoch 16, CIFAR-10 Batch 2:  Loss= 1.156940, Training Accuracy= 0.50380\n",
      "Epoch 16, CIFAR-10 Batch 3:  Loss= 1.152138, Training Accuracy= 0.50900\n",
      "Epoch 16, CIFAR-10 Batch 4:  Loss= 1.127458, Training Accuracy= 0.52060\n",
      "Epoch 16, CIFAR-10 Batch 5:  Loss= 1.104488, Training Accuracy= 0.52440\n",
      "Epoch 17, CIFAR-10 Batch 1:  Loss= 1.199836, Training Accuracy= 0.52800\n",
      "Epoch 17, CIFAR-10 Batch 2:  Loss= 1.149319, Training Accuracy= 0.50920\n",
      "Epoch 17, CIFAR-10 Batch 3:  Loss= 1.079417, Training Accuracy= 0.51520\n",
      "Epoch 17, CIFAR-10 Batch 4:  Loss= 1.085077, Training Accuracy= 0.52940\n",
      "Epoch 17, CIFAR-10 Batch 5:  Loss= 1.033897, Training Accuracy= 0.53020\n",
      "Epoch 18, CIFAR-10 Batch 1:  Loss= 1.145621, Training Accuracy= 0.52700\n",
      "Epoch 18, CIFAR-10 Batch 2:  Loss= 1.103914, Training Accuracy= 0.51780\n",
      "Epoch 18, CIFAR-10 Batch 3:  Loss= 1.062686, Training Accuracy= 0.52860\n",
      "Epoch 18, CIFAR-10 Batch 4:  Loss= 1.073889, Training Accuracy= 0.52680\n",
      "Epoch 18, CIFAR-10 Batch 5:  Loss= 1.015858, Training Accuracy= 0.53280\n",
      "Epoch 19, CIFAR-10 Batch 1:  Loss= 1.142237, Training Accuracy= 0.53380\n",
      "Epoch 19, CIFAR-10 Batch 2:  Loss= 1.070035, Training Accuracy= 0.52080\n",
      "Epoch 19, CIFAR-10 Batch 3:  Loss= 1.022375, Training Accuracy= 0.52640\n",
      "Epoch 19, CIFAR-10 Batch 4:  Loss= 1.065915, Training Accuracy= 0.52640\n",
      "Epoch 19, CIFAR-10 Batch 5:  Loss= 1.029566, Training Accuracy= 0.52660\n",
      "Epoch 20, CIFAR-10 Batch 1:  Loss= 1.136028, Training Accuracy= 0.53700\n",
      "Epoch 20, CIFAR-10 Batch 2:  Loss= 1.076649, Training Accuracy= 0.52220\n",
      "Epoch 20, CIFAR-10 Batch 3:  Loss= 1.048721, Training Accuracy= 0.52180\n",
      "Epoch 20, CIFAR-10 Batch 4:  Loss= 1.031573, Training Accuracy= 0.52600\n",
      "Epoch 20, CIFAR-10 Batch 5:  Loss= 1.009904, Training Accuracy= 0.54100\n",
      "Epoch 21, CIFAR-10 Batch 1:  Loss= 1.080899, Training Accuracy= 0.53100\n",
      "Epoch 21, CIFAR-10 Batch 2:  Loss= 1.032008, Training Accuracy= 0.52540\n",
      "Epoch 21, CIFAR-10 Batch 3:  Loss= 1.007165, Training Accuracy= 0.52940\n",
      "Epoch 21, CIFAR-10 Batch 4:  Loss= 0.997306, Training Accuracy= 0.54140\n",
      "Epoch 21, CIFAR-10 Batch 5:  Loss= 0.956879, Training Accuracy= 0.54340\n",
      "Epoch 22, CIFAR-10 Batch 1:  Loss= 1.055655, Training Accuracy= 0.54680\n",
      "Epoch 22, CIFAR-10 Batch 2:  Loss= 1.020891, Training Accuracy= 0.52780\n",
      "Epoch 22, CIFAR-10 Batch 3:  Loss= 0.982517, Training Accuracy= 0.53960\n",
      "Epoch 22, CIFAR-10 Batch 4:  Loss= 0.999825, Training Accuracy= 0.53660\n",
      "Epoch 22, CIFAR-10 Batch 5:  Loss= 0.969054, Training Accuracy= 0.54120\n",
      "Epoch 23, CIFAR-10 Batch 1:  Loss= 1.042463, Training Accuracy= 0.53440\n",
      "Epoch 23, CIFAR-10 Batch 2:  Loss= 1.001133, Training Accuracy= 0.53640\n",
      "Epoch 23, CIFAR-10 Batch 3:  Loss= 0.960443, Training Accuracy= 0.54420\n",
      "Epoch 23, CIFAR-10 Batch 4:  Loss= 0.940247, Training Accuracy= 0.54460\n"
     ]
    },
    {
     "name": "stdout",
     "output_type": "stream",
     "text": [
      "Epoch 23, CIFAR-10 Batch 5:  Loss= 0.919433, Training Accuracy= 0.54380\n",
      "Epoch 24, CIFAR-10 Batch 1:  Loss= 1.015945, Training Accuracy= 0.54260\n",
      "Epoch 24, CIFAR-10 Batch 2:  Loss= 0.963300, Training Accuracy= 0.54480\n",
      "Epoch 24, CIFAR-10 Batch 3:  Loss= 0.937910, Training Accuracy= 0.54440\n",
      "Epoch 24, CIFAR-10 Batch 4:  Loss= 0.940864, Training Accuracy= 0.54440\n",
      "Epoch 24, CIFAR-10 Batch 5:  Loss= 0.888997, Training Accuracy= 0.55000\n",
      "Epoch 25, CIFAR-10 Batch 1:  Loss= 1.005509, Training Accuracy= 0.54340\n",
      "Epoch 25, CIFAR-10 Batch 2:  Loss= 0.974932, Training Accuracy= 0.53860\n",
      "Epoch 25, CIFAR-10 Batch 3:  Loss= 0.925261, Training Accuracy= 0.54420\n",
      "Epoch 25, CIFAR-10 Batch 4:  Loss= 0.953545, Training Accuracy= 0.55060\n",
      "Epoch 25, CIFAR-10 Batch 5:  Loss= 0.882268, Training Accuracy= 0.55420\n",
      "Epoch 26, CIFAR-10 Batch 1:  Loss= 1.012138, Training Accuracy= 0.55620\n",
      "Epoch 26, CIFAR-10 Batch 2:  Loss= 0.925742, Training Accuracy= 0.54300\n",
      "Epoch 26, CIFAR-10 Batch 3:  Loss= 0.894841, Training Accuracy= 0.55200\n",
      "Epoch 26, CIFAR-10 Batch 4:  Loss= 0.934079, Training Accuracy= 0.54680\n",
      "Epoch 26, CIFAR-10 Batch 5:  Loss= 0.855797, Training Accuracy= 0.55020\n",
      "Epoch 27, CIFAR-10 Batch 1:  Loss= 0.976361, Training Accuracy= 0.55300\n",
      "Epoch 27, CIFAR-10 Batch 2:  Loss= 0.909425, Training Accuracy= 0.54480\n",
      "Epoch 27, CIFAR-10 Batch 3:  Loss= 0.895234, Training Accuracy= 0.55200\n",
      "Epoch 27, CIFAR-10 Batch 4:  Loss= 0.925851, Training Accuracy= 0.54400\n",
      "Epoch 27, CIFAR-10 Batch 5:  Loss= 0.838074, Training Accuracy= 0.55060\n",
      "Epoch 28, CIFAR-10 Batch 1:  Loss= 0.969179, Training Accuracy= 0.54760\n",
      "Epoch 28, CIFAR-10 Batch 2:  Loss= 0.912954, Training Accuracy= 0.54500\n",
      "Epoch 28, CIFAR-10 Batch 3:  Loss= 0.896287, Training Accuracy= 0.54080\n",
      "Epoch 28, CIFAR-10 Batch 4:  Loss= 0.909956, Training Accuracy= 0.55440\n",
      "Epoch 28, CIFAR-10 Batch 5:  Loss= 0.851721, Training Accuracy= 0.55020\n",
      "Epoch 29, CIFAR-10 Batch 1:  Loss= 0.936972, Training Accuracy= 0.54960\n",
      "Epoch 29, CIFAR-10 Batch 2:  Loss= 0.890933, Training Accuracy= 0.55620\n",
      "Epoch 29, CIFAR-10 Batch 3:  Loss= 0.874722, Training Accuracy= 0.55760\n",
      "Epoch 29, CIFAR-10 Batch 4:  Loss= 0.877413, Training Accuracy= 0.55540\n",
      "Epoch 29, CIFAR-10 Batch 5:  Loss= 0.843160, Training Accuracy= 0.55400\n",
      "Epoch 30, CIFAR-10 Batch 1:  Loss= 0.917753, Training Accuracy= 0.56220\n",
      "Epoch 30, CIFAR-10 Batch 2:  Loss= 0.846444, Training Accuracy= 0.55360\n",
      "Epoch 30, CIFAR-10 Batch 3:  Loss= 0.835482, Training Accuracy= 0.55720\n",
      "Epoch 30, CIFAR-10 Batch 4:  Loss= 0.887090, Training Accuracy= 0.54860\n",
      "Epoch 30, CIFAR-10 Batch 5:  Loss= 0.810491, Training Accuracy= 0.55480\n",
      "Epoch 31, CIFAR-10 Batch 1:  Loss= 0.885846, Training Accuracy= 0.56240\n",
      "Epoch 31, CIFAR-10 Batch 2:  Loss= 0.847040, Training Accuracy= 0.55380\n",
      "Epoch 31, CIFAR-10 Batch 3:  Loss= 0.817925, Training Accuracy= 0.55880\n",
      "Epoch 31, CIFAR-10 Batch 4:  Loss= 0.862309, Training Accuracy= 0.55000\n",
      "Epoch 31, CIFAR-10 Batch 5:  Loss= 0.797231, Training Accuracy= 0.56120\n",
      "Epoch 32, CIFAR-10 Batch 1:  Loss= 0.922574, Training Accuracy= 0.55540\n",
      "Epoch 32, CIFAR-10 Batch 2:  Loss= 0.844078, Training Accuracy= 0.55880\n",
      "Epoch 32, CIFAR-10 Batch 3:  Loss= 0.843742, Training Accuracy= 0.55540\n",
      "Epoch 32, CIFAR-10 Batch 4:  Loss= 0.879296, Training Accuracy= 0.55420\n",
      "Epoch 32, CIFAR-10 Batch 5:  Loss= 0.775645, Training Accuracy= 0.56020\n",
      "Epoch 33, CIFAR-10 Batch 1:  Loss= 0.880988, Training Accuracy= 0.55640\n",
      "Epoch 33, CIFAR-10 Batch 2:  Loss= 0.844655, Training Accuracy= 0.54860\n",
      "Epoch 33, CIFAR-10 Batch 3:  Loss= 0.858613, Training Accuracy= 0.54840\n",
      "Epoch 33, CIFAR-10 Batch 4:  Loss= 0.831449, Training Accuracy= 0.55880\n",
      "Epoch 33, CIFAR-10 Batch 5:  Loss= 0.759915, Training Accuracy= 0.56420\n",
      "Epoch 34, CIFAR-10 Batch 1:  Loss= 0.865024, Training Accuracy= 0.55760\n",
      "Epoch 34, CIFAR-10 Batch 2:  Loss= 0.839069, Training Accuracy= 0.55940\n",
      "Epoch 34, CIFAR-10 Batch 3:  Loss= 0.775041, Training Accuracy= 0.55740\n",
      "Epoch 34, CIFAR-10 Batch 4:  Loss= 0.776150, Training Accuracy= 0.56180\n",
      "Epoch 34, CIFAR-10 Batch 5:  Loss= 0.731837, Training Accuracy= 0.56680\n",
      "Epoch 35, CIFAR-10 Batch 1:  Loss= 0.903062, Training Accuracy= 0.55720\n",
      "Epoch 35, CIFAR-10 Batch 2:  Loss= 0.827962, Training Accuracy= 0.55320\n",
      "Epoch 35, CIFAR-10 Batch 3:  Loss= 0.751237, Training Accuracy= 0.55280\n",
      "Epoch 35, CIFAR-10 Batch 4:  Loss= 0.791060, Training Accuracy= 0.54940\n",
      "Epoch 35, CIFAR-10 Batch 5:  Loss= 0.761523, Training Accuracy= 0.56140\n",
      "Epoch 36, CIFAR-10 Batch 1:  Loss= 0.840876, Training Accuracy= 0.56320\n",
      "Epoch 36, CIFAR-10 Batch 2:  Loss= 0.793087, Training Accuracy= 0.55680\n",
      "Epoch 36, CIFAR-10 Batch 3:  Loss= 0.775501, Training Accuracy= 0.55120\n",
      "Epoch 36, CIFAR-10 Batch 4:  Loss= 0.788564, Training Accuracy= 0.54720\n",
      "Epoch 36, CIFAR-10 Batch 5:  Loss= 0.746027, Training Accuracy= 0.55280\n",
      "Epoch 37, CIFAR-10 Batch 1:  Loss= 0.868684, Training Accuracy= 0.55860\n",
      "Epoch 37, CIFAR-10 Batch 2:  Loss= 0.778319, Training Accuracy= 0.55740\n",
      "Epoch 37, CIFAR-10 Batch 3:  Loss= 0.754846, Training Accuracy= 0.55620\n",
      "Epoch 37, CIFAR-10 Batch 4:  Loss= 0.783837, Training Accuracy= 0.55520\n",
      "Epoch 37, CIFAR-10 Batch 5:  Loss= 0.706925, Training Accuracy= 0.55780\n",
      "Epoch 38, CIFAR-10 Batch 1:  Loss= 0.827550, Training Accuracy= 0.55260\n",
      "Epoch 38, CIFAR-10 Batch 2:  Loss= 0.747263, Training Accuracy= 0.56020\n",
      "Epoch 38, CIFAR-10 Batch 3:  Loss= 0.748642, Training Accuracy= 0.55460\n",
      "Epoch 38, CIFAR-10 Batch 4:  Loss= 0.790181, Training Accuracy= 0.55040\n",
      "Epoch 38, CIFAR-10 Batch 5:  Loss= 0.721080, Training Accuracy= 0.55920\n",
      "Epoch 39, CIFAR-10 Batch 1:  Loss= 0.780904, Training Accuracy= 0.55780\n",
      "Epoch 39, CIFAR-10 Batch 2:  Loss= 0.729820, Training Accuracy= 0.56020\n",
      "Epoch 39, CIFAR-10 Batch 3:  Loss= 0.713824, Training Accuracy= 0.55900\n",
      "Epoch 39, CIFAR-10 Batch 4:  Loss= 0.771910, Training Accuracy= 0.55340\n",
      "Epoch 39, CIFAR-10 Batch 5:  Loss= 0.726436, Training Accuracy= 0.56060\n",
      "Epoch 40, CIFAR-10 Batch 1:  Loss= 0.766267, Training Accuracy= 0.56240\n",
      "Epoch 40, CIFAR-10 Batch 2:  Loss= 0.727220, Training Accuracy= 0.55800\n",
      "Epoch 40, CIFAR-10 Batch 3:  Loss= 0.686951, Training Accuracy= 0.56280\n",
      "Epoch 40, CIFAR-10 Batch 4:  Loss= 0.747141, Training Accuracy= 0.56480\n",
      "Epoch 40, CIFAR-10 Batch 5:  Loss= 0.688213, Training Accuracy= 0.55560\n",
      "Epoch 41, CIFAR-10 Batch 1:  Loss= 0.796230, Training Accuracy= 0.55820\n",
      "Epoch 41, CIFAR-10 Batch 2:  Loss= 0.724298, Training Accuracy= 0.56280\n",
      "Epoch 41, CIFAR-10 Batch 3:  Loss= 0.703658, Training Accuracy= 0.55520\n",
      "Epoch 41, CIFAR-10 Batch 4:  Loss= 0.714430, Training Accuracy= 0.55380\n",
      "Epoch 41, CIFAR-10 Batch 5:  Loss= 0.700743, Training Accuracy= 0.55680\n",
      "Epoch 42, CIFAR-10 Batch 1:  Loss= 0.757509, Training Accuracy= 0.56140\n",
      "Epoch 42, CIFAR-10 Batch 2:  Loss= 0.740245, Training Accuracy= 0.54860\n",
      "Epoch 42, CIFAR-10 Batch 3:  Loss= 0.692011, Training Accuracy= 0.55880\n",
      "Epoch 42, CIFAR-10 Batch 4:  Loss= 0.702378, Training Accuracy= 0.55940\n",
      "Epoch 42, CIFAR-10 Batch 5:  Loss= 0.676992, Training Accuracy= 0.56200\n",
      "Epoch 43, CIFAR-10 Batch 1:  Loss= 0.751489, Training Accuracy= 0.56220\n",
      "Epoch 43, CIFAR-10 Batch 2:  Loss= 0.730134, Training Accuracy= 0.56060\n",
      "Epoch 43, CIFAR-10 Batch 3:  Loss= 0.671527, Training Accuracy= 0.55740\n",
      "Epoch 43, CIFAR-10 Batch 4:  Loss= 0.696305, Training Accuracy= 0.54980\n",
      "Epoch 43, CIFAR-10 Batch 5:  Loss= 0.666534, Training Accuracy= 0.56240\n",
      "Epoch 44, CIFAR-10 Batch 1:  Loss= 0.731259, Training Accuracy= 0.55080\n",
      "Epoch 44, CIFAR-10 Batch 2:  Loss= 0.726195, Training Accuracy= 0.55780\n",
      "Epoch 44, CIFAR-10 Batch 3:  Loss= 0.671616, Training Accuracy= 0.55720\n",
      "Epoch 44, CIFAR-10 Batch 4:  Loss= 0.658026, Training Accuracy= 0.55760\n",
      "Epoch 44, CIFAR-10 Batch 5:  Loss= 0.624406, Training Accuracy= 0.56220\n",
      "Epoch 45, CIFAR-10 Batch 1:  Loss= 0.730786, Training Accuracy= 0.55820\n",
      "Epoch 45, CIFAR-10 Batch 2:  Loss= 0.661727, Training Accuracy= 0.56520\n",
      "Epoch 45, CIFAR-10 Batch 3:  Loss= 0.642113, Training Accuracy= 0.56680\n",
      "Epoch 45, CIFAR-10 Batch 4:  Loss= 0.678746, Training Accuracy= 0.55540\n",
      "Epoch 45, CIFAR-10 Batch 5:  Loss= 0.626758, Training Accuracy= 0.56720\n",
      "Epoch 46, CIFAR-10 Batch 1:  Loss= 0.703592, Training Accuracy= 0.56700\n",
      "Epoch 46, CIFAR-10 Batch 2:  Loss= 0.676089, Training Accuracy= 0.55820\n",
      "Epoch 46, CIFAR-10 Batch 3:  Loss= 0.625826, Training Accuracy= 0.55800\n"
     ]
    },
    {
     "name": "stdout",
     "output_type": "stream",
     "text": [
      "Epoch 46, CIFAR-10 Batch 4:  Loss= 0.658951, Training Accuracy= 0.56060\n",
      "Epoch 46, CIFAR-10 Batch 5:  Loss= 0.624648, Training Accuracy= 0.55940\n",
      "Epoch 47, CIFAR-10 Batch 1:  Loss= 0.673703, Training Accuracy= 0.56920\n",
      "Epoch 47, CIFAR-10 Batch 2:  Loss= 0.644386, Training Accuracy= 0.56640\n",
      "Epoch 47, CIFAR-10 Batch 3:  Loss= 0.606494, Training Accuracy= 0.56180\n",
      "Epoch 47, CIFAR-10 Batch 4:  Loss= 0.661596, Training Accuracy= 0.55740\n",
      "Epoch 47, CIFAR-10 Batch 5:  Loss= 0.579818, Training Accuracy= 0.56840\n",
      "Epoch 48, CIFAR-10 Batch 1:  Loss= 0.682451, Training Accuracy= 0.56760\n",
      "Epoch 48, CIFAR-10 Batch 2:  Loss= 0.638762, Training Accuracy= 0.56820\n",
      "Epoch 48, CIFAR-10 Batch 3:  Loss= 0.611205, Training Accuracy= 0.56280\n",
      "Epoch 48, CIFAR-10 Batch 4:  Loss= 0.624754, Training Accuracy= 0.57200\n",
      "Epoch 48, CIFAR-10 Batch 5:  Loss= 0.585234, Training Accuracy= 0.57540\n",
      "Epoch 49, CIFAR-10 Batch 1:  Loss= 0.634408, Training Accuracy= 0.57300\n",
      "Epoch 49, CIFAR-10 Batch 2:  Loss= 0.608314, Training Accuracy= 0.56180\n",
      "Epoch 49, CIFAR-10 Batch 3:  Loss= 0.652663, Training Accuracy= 0.56720\n",
      "Epoch 49, CIFAR-10 Batch 4:  Loss= 0.624826, Training Accuracy= 0.56760\n",
      "Epoch 49, CIFAR-10 Batch 5:  Loss= 0.589564, Training Accuracy= 0.57160\n",
      "Epoch 50, CIFAR-10 Batch 1:  Loss= 0.622017, Training Accuracy= 0.57340\n",
      "Epoch 50, CIFAR-10 Batch 2:  Loss= 0.579786, Training Accuracy= 0.56780\n",
      "Epoch 50, CIFAR-10 Batch 3:  Loss= 0.546525, Training Accuracy= 0.56940\n",
      "Epoch 50, CIFAR-10 Batch 4:  Loss= 0.582920, Training Accuracy= 0.57500\n",
      "Epoch 50, CIFAR-10 Batch 5:  Loss= 0.554354, Training Accuracy= 0.57120\n"
     ]
    }
   ],
   "source": [
    "\"\"\"\n",
    "DON'T MODIFY ANYTHING IN THIS CELL\n",
    "\"\"\"\n",
    "save_model_path = './image_classification'\n",
    "\n",
    "print('Training...')\n",
    "with tf.Session() as sess:\n",
    "    # Initializing the variables\n",
    "    sess.run(tf.global_variables_initializer())\n",
    "    \n",
    "    # Training cycle\n",
    "    for epoch in range(epochs):\n",
    "        # Loop over all batches\n",
    "        n_batches = 5\n",
    "        for batch_i in range(1, n_batches + 1):\n",
    "            for batch_features, batch_labels in helper.load_preprocess_training_batch(batch_i, batch_size):\n",
    "                train_neural_network(sess, optimizer, keep_probability, batch_features, batch_labels)\n",
    "            print('Epoch {:>2}, CIFAR-10 Batch {}:  '.format(epoch + 1, batch_i), end='')\n",
    "            print_stats(sess, batch_features, batch_labels, cost, accuracy)\n",
    "            \n",
    "    # Save Model\n",
    "    saver = tf.train.Saver()\n",
    "    save_path = saver.save(sess, save_model_path)"
   ]
  },
  {
   "cell_type": "markdown",
   "metadata": {},
   "source": [
    "# Checkpoint\n",
    "The model has been saved to disk.\n",
    "## Test Model\n",
    "Test your model against the test dataset.  This will be your final accuracy. You should have an accuracy greater than 50%. If you don't, keep tweaking the model architecture and parameters."
   ]
  },
  {
   "cell_type": "code",
   "execution_count": 21,
   "metadata": {},
   "outputs": [
    {
     "name": "stdout",
     "output_type": "stream",
     "text": [
      "Testing Accuracy: 0.5645680129528046\n",
      "\n"
     ]
    },
    {
     "data": {
      "image/png": "[encoded data removed]",
      "text/plain": [
       "<matplotlib.figure.Figure at 0x7f7144190e48>"
      ]
     },
     "metadata": {
      "image/png": {
       "height": 319,
       "width": 355
      }
     },
     "output_type": "display_data"
    }
   ],
   "source": [
    "\"\"\"\n",
    "DON'T MODIFY ANYTHING IN THIS CELL\n",
    "\"\"\"\n",
    "%matplotlib inline\n",
    "%config InlineBackend.figure_format = 'retina'\n",
    "\n",
    "import tensorflow as tf\n",
    "import pickle\n",
    "import helper\n",
    "import random\n",
    "\n",
    "# Set batch size if not already set\n",
    "try:\n",
    "    if batch_size:\n",
    "        pass\n",
    "except NameError:\n",
    "    batch_size = 64\n",
    "\n",
    "save_model_path = './image_classification'\n",
    "n_samples = 4\n",
    "top_n_predictions = 3\n",
    "\n",
    "def test_model():\n",
    "    \"\"\"\n",
    "    Test the saved model against the test dataset\n",
    "    \"\"\"\n",
    "\n",
    "    test_features, test_labels = pickle.load(open('preprocess_test.p', mode='rb'))\n",
    "    loaded_graph = tf.Graph()\n",
    "\n",
    "    with tf.Session(graph=loaded_graph) as sess:\n",
    "        # Load model\n",
    "        loader = tf.train.import_meta_graph(save_model_path + '.meta')\n",
    "        loader.restore(sess, save_model_path)\n",
    "\n",
    "        # Get Tensors from loaded model\n",
    "        loaded_x = loaded_graph.get_tensor_by_name('x:0')\n",
    "        loaded_y = loaded_graph.get_tensor_by_name('y:0')\n",
    "        loaded_keep_prob = loaded_graph.get_tensor_by_name('keep_prob:0')\n",
    "        loaded_logits = loaded_graph.get_tensor_by_name('logits:0')\n",
    "        loaded_acc = loaded_graph.get_tensor_by_name('accuracy:0')\n",
    "        \n",
    "        # Get accuracy in batches for memory limitations\n",
    "        test_batch_acc_total = 0\n",
    "        test_batch_count = 0\n",
    "        \n",
    "        for test_feature_batch, test_label_batch in helper.batch_features_labels(test_features, test_labels, batch_size):\n",
    "            test_batch_acc_total += sess.run(\n",
    "                loaded_acc,\n",
    "                feed_dict={loaded_x: test_feature_batch, loaded_y: test_label_batch, loaded_keep_prob: 1.0})\n",
    "            test_batch_count += 1\n",
    "\n",
    "        print('Testing Accuracy: {}\\n'.format(test_batch_acc_total/test_batch_count))\n",
    "\n",
    "        # Print Random Samples\n",
    "        random_test_features, random_test_labels = tuple(zip(*random.sample(list(zip(test_features, test_labels)), n_samples)))\n",
    "        random_test_predictions = sess.run(\n",
    "            tf.nn.top_k(tf.nn.softmax(loaded_logits), top_n_predictions),\n",
    "            feed_dict={loaded_x: random_test_features, loaded_y: random_test_labels, loaded_keep_prob: 1.0})\n",
    "        helper.display_image_predictions(random_test_features, random_test_labels, random_test_predictions)\n",
    "\n",
    "\n",
    "test_model()"
   ]
  },
  {
   "cell_type": "markdown",
   "metadata": {},
   "source": [
    "## Why 50-80% Accuracy?\n",
    "You might be wondering why you can't get an accuracy any higher. First things first, 50% isn't bad for a simple CNN.  Pure guessing would get you 10% accuracy. However, you might notice people are getting scores [well above 80%](http://rodrigob.github.io/are_we_there_yet/build/classification_datasets_results.html#43494641522d3130).  That's because we haven't taught you all there is to know about neural networks. We still need to cover a few more techniques.\n",
    "## Submitting This Project\n",
    "When submitting this project, make sure to run all the cells before saving the notebook.  Save the notebook file as \"dlnd_image_classification.ipynb\" and save it as a HTML file under \"File\" -> \"Download as\".  Include the \"helper.py\" and \"problem_unittests.py\" files in your submission."
   ]
  }
 ],
 "metadata": {
  "kernelspec": {
   "display_name": "Python 3",
   "language": "python",
   "name": "python3"
  },
  "language_info": {
   "codemirror_mode": {
    "name": "ipython",
    "version": 3
   },
   "file_extension": ".py",
   "mimetype": "text/x-python",
   "name": "python",
   "nbconvert_exporter": "python",
   "pygments_lexer": "ipython3",
   "version": "3.4.3"
  }
 },
 "nbformat": 4,
 "nbformat_minor": 1
}
