{
 "cells": [
  {
   "cell_type": "markdown",
   "metadata": {
    "collapsed": true
   },
   "source": [
    "# Image Classification\n",
    "In this project, you'll classify images from the [CIFAR-10 dataset](https://www.cs.toronto.edu/~kriz/cifar.html).  The dataset consists of airplanes, dogs, cats, and other objects. You'll preprocess the images, then train a convolutional neural network on all the samples. The images need to be normalized and the labels need to be one-hot encoded.  You'll get to apply what you learned and build a convolutional, max pooling, dropout, and fully connected layers.  At the end, you'll get to see your neural network's predictions on the sample images.\n",
    "## Get the Data\n",
    "Run the following cell to download the [CIFAR-10 dataset for python](https://www.cs.toronto.edu/~kriz/cifar-10-python.tar.gz)."
   ]
  },
  {
   "cell_type": "code",
   "execution_count": 107,
   "metadata": {},
   "outputs": [
    {
     "name": "stdout",
     "output_type": "stream",
     "text": [
      "All files found!\n"
     ]
    }
   ],
   "source": [
    "\"\"\"\n",
    "DON'T MODIFY ANYTHING IN THIS CELL THAT IS BELOW THIS LINE\n",
    "\"\"\"\n",
    "from urllib.request import urlretrieve\n",
    "from os.path import isfile, isdir\n",
    "from tqdm import tqdm\n",
    "import problem_unittests as tests\n",
    "import tarfile\n",
    "\n",
    "cifar10_dataset_folder_path = 'cifar-10-batches-py'\n",
    "\n",
    "# Use Floyd's cifar-10 dataset if present\n",
    "floyd_cifar10_location = '/input/cifar-10/python.tar.gz'\n",
    "if isfile(floyd_cifar10_location):\n",
    "    tar_gz_path = floyd_cifar10_location\n",
    "else:\n",
    "    tar_gz_path = 'cifar-10-python.tar.gz'\n",
    "\n",
    "class DLProgress(tqdm):\n",
    "    last_block = 0\n",
    "\n",
    "    def hook(self, block_num=1, block_size=1, total_size=None):\n",
    "        self.total = total_size\n",
    "        self.update((block_num - self.last_block) * block_size)\n",
    "        self.last_block = block_num\n",
    "\n",
    "if not isfile(tar_gz_path):\n",
    "    with DLProgress(unit='B', unit_scale=True, miniters=1, desc='CIFAR-10 Dataset') as pbar:\n",
    "        urlretrieve(\n",
    "            'https://www.cs.toronto.edu/~kriz/cifar-10-python.tar.gz',\n",
    "            tar_gz_path,\n",
    "            pbar.hook)\n",
    "\n",
    "if not isdir(cifar10_dataset_folder_path):\n",
    "    with tarfile.open(tar_gz_path) as tar:\n",
    "        tar.extractall()\n",
    "        tar.close()\n",
    "\n",
    "\n",
    "tests.test_folder_path(cifar10_dataset_folder_path)"
   ]
  },
  {
   "cell_type": "markdown",
   "metadata": {},
   "source": [
    "## Explore the Data\n",
    "The dataset is broken into batches to prevent your machine from running out of memory.  The CIFAR-10 dataset consists of 5 batches, named `data_batch_1`, `data_batch_2`, etc.. Each batch contains the labels and images that are one of the following:\n",
    "* airplane\n",
    "* automobile\n",
    "* bird\n",
    "* cat\n",
    "* deer\n",
    "* dog\n",
    "* frog\n",
    "* horse\n",
    "* ship\n",
    "* truck\n",
    "\n",
    "Understanding a dataset is part of making predictions on the data.  Play around with the code cell below by changing the `batch_id` and `sample_id`. The `batch_id` is the id for a batch (1-5). The `sample_id` is the id for a image and label pair in the batch.\n",
    "\n",
    "Ask yourself \"What are all possible labels?\", \"What is the range of values for the image data?\", \"Are the labels in order or random?\".  Answers to questions like these will help you preprocess the data and end up with better predictions."
   ]
  },
  {
   "cell_type": "code",
   "execution_count": 108,
   "metadata": {},
   "outputs": [
    {
     "name": "stdout",
     "output_type": "stream",
     "text": [
      "\n",
      "Stats of batch 1:\n",
      "Samples: 10000\n",
      "Label Counts: {0: 1005, 1: 974, 2: 1032, 3: 1016, 4: 999, 5: 937, 6: 1030, 7: 1001, 8: 1025, 9: 981}\n",
      "First 20 Labels: [6, 9, 9, 4, 1, 1, 2, 7, 8, 3, 4, 7, 7, 2, 9, 9, 9, 3, 2, 6]\n",
      "\n",
      "Example of Image 5:\n",
      "Image - Min Value: 0 Max Value: 252\n",
      "Image - Shape: (32, 32, 3)\n",
      "Label - Label Id: 1 Name: automobile\n"
     ]
    },
    {
     "data": {
      "image/png": "[encoded data removed]",
      "text/plain": [
       "<matplotlib.figure.Figure at 0x7f1f1072f5f8>"
      ]
     },
     "metadata": {
      "image/png": {
       "height": 250,
       "width": 253
      }
     },
     "output_type": "display_data"
    }
   ],
   "source": [
    "%matplotlib inline\n",
    "%config InlineBackend.figure_format = 'retina'\n",
    "\n",
    "import helper\n",
    "import numpy as np\n",
    "\n",
    "# Explore the dataset\n",
    "batch_id = 1\n",
    "sample_id = 5\n",
    "helper.display_stats(cifar10_dataset_folder_path, batch_id, sample_id)"
   ]
  },
  {
   "cell_type": "markdown",
   "metadata": {},
   "source": [
    "## Implement Preprocess Functions\n",
    "### Normalize\n",
    "In the cell below, implement the `normalize` function to take in image data, `x`, and return it as a normalized Numpy array. The values should be in the range of 0 to 1, inclusive.  The return object should be the same shape as `x`."
   ]
  },
  {
   "cell_type": "code",
   "execution_count": 109,
   "metadata": {},
   "outputs": [
    {
     "name": "stdout",
     "output_type": "stream",
     "text": [
      "Tests Passed\n"
     ]
    }
   ],
   "source": [
    "def normalize(x):\n",
    "    \"\"\"\n",
    "    Normalize a list of sample image data in the range of 0 to 1\n",
    "    : x: List of image data.  The image shape is (32, 32, 3)\n",
    "    : return: Numpy array of normalize data\n",
    "    \"\"\"\n",
    "    # TODO: Implement Function\n",
    "    high = 1.0\n",
    "    low = 0.0\n",
    "    mins = np.min(x, axis=0)\n",
    "    maxs = np.max(x, axis=0)\n",
    "    rng = maxs - mins\n",
    "    return (high - (((high-low) * (maxs - x)) / rng))\n",
    "\n",
    "\n",
    "\"\"\"\n",
    "DON'T MODIFY ANYTHING IN THIS CELL THAT IS BELOW THIS LINE\n",
    "\"\"\"\n",
    "tests.test_normalize(normalize)"
   ]
  },
  {
   "cell_type": "markdown",
   "metadata": {},
   "source": [
    "### One-hot encode\n",
    "Just like the previous code cell, you'll be implementing a function for preprocessing.  This time, you'll implement the `one_hot_encode` function. The input, `x`, are a list of labels.  Implement the function to return the list of labels as One-Hot encoded Numpy array.  The possible values for labels are 0 to 9. The one-hot encoding function should return the same encoding for each value between each call to `one_hot_encode`.  Make sure to save the map of encodings outside the function.\n",
    "\n",
    "Hint: Don't reinvent the wheel."
   ]
  },
  {
   "cell_type": "code",
   "execution_count": 110,
   "metadata": {},
   "outputs": [
    {
     "name": "stdout",
     "output_type": "stream",
     "text": [
      "Tests Passed\n"
     ]
    }
   ],
   "source": [
    "def one_hot_encode(x):\n",
    "    \"\"\"\n",
    "    One hot encode a list of sample labels. Return a one-hot encoded vector for each label.\n",
    "    : x: List of sample Labels\n",
    "    : return: Numpy array of one-hot encoded labels\n",
    "    \"\"\"\n",
    "    # TODO: Implement Function\n",
    "    return np.eye(10, dtype=int)[x]\n",
    "\n",
    "\n",
    "\"\"\"\n",
    "DON'T MODIFY ANYTHING IN THIS CELL THAT IS BELOW THIS LINE\n",
    "\"\"\"\n",
    "tests.test_one_hot_encode(one_hot_encode)"
   ]
  },
  {
   "cell_type": "markdown",
   "metadata": {},
   "source": [
    "### Randomize Data\n",
    "As you saw from exploring the data above, the order of the samples are randomized.  It doesn't hurt to randomize it again, but you don't need to for this dataset."
   ]
  },
  {
   "cell_type": "markdown",
   "metadata": {},
   "source": [
    "## Preprocess all the data and save it\n",
    "Running the code cell below will preprocess all the CIFAR-10 data and save it to file. The code below also uses 10% of the training data for validation."
   ]
  },
  {
   "cell_type": "code",
   "execution_count": 111,
   "metadata": {
    "collapsed": true
   },
   "outputs": [],
   "source": [
    "\"\"\"\n",
    "DON'T MODIFY ANYTHING IN THIS CELL\n",
    "\"\"\"\n",
    "# Preprocess Training, Validation, and Testing Data\n",
    "helper.preprocess_and_save_data(cifar10_dataset_folder_path, normalize, one_hot_encode)"
   ]
  },
  {
   "cell_type": "markdown",
   "metadata": {},
   "source": [
    "# Check Point\n",
    "This is your first checkpoint.  If you ever decide to come back to this notebook or have to restart the notebook, you can start from here.  The preprocessed data has been saved to disk."
   ]
  },
  {
   "cell_type": "code",
   "execution_count": 112,
   "metadata": {
    "collapsed": true
   },
   "outputs": [],
   "source": [
    "\"\"\"\n",
    "DON'T MODIFY ANYTHING IN THIS CELL\n",
    "\"\"\"\n",
    "import pickle\n",
    "import problem_unittests as tests\n",
    "import helper\n",
    "\n",
    "# Load the Preprocessed Validation data\n",
    "valid_features, valid_labels = pickle.load(open('preprocess_validation.p', mode='rb'))"
   ]
  },
  {
   "cell_type": "markdown",
   "metadata": {},
   "source": [
    "## Build the network\n",
    "For the neural network, you'll build each layer into a function.  Most of the code you've seen has been outside of functions. To test your code more thoroughly, we require that you put each layer in a function.  This allows us to give you better feedback and test for simple mistakes using our unittests before you submit your project.\n",
    "\n",
    ">**Note:** If you're finding it hard to dedicate enough time for this course each week, we've provided a small shortcut to this part of the project. In the next couple of problems, you'll have the option to use classes from the [TensorFlow Layers](https://www.tensorflow.org/api_docs/python/tf/layers) or [TensorFlow Layers (contrib)](https://www.tensorflow.org/api_guides/python/contrib.layers) packages to build each layer, except the layers you build in the \"Convolutional and Max Pooling Layer\" section.  TF Layers is similar to Keras's and TFLearn's abstraction to layers, so it's easy to pickup.\n",
    "\n",
    ">However, if you would like to get the most out of this course, try to solve all the problems _without_ using anything from the TF Layers packages. You **can** still use classes from other packages that happen to have the same name as ones you find in TF Layers! For example, instead of using the TF Layers version of the `conv2d` class, [tf.layers.conv2d](https://www.tensorflow.org/api_docs/python/tf/layers/conv2d), you would want to use the TF Neural Network version of `conv2d`, [tf.nn.conv2d](https://www.tensorflow.org/api_docs/python/tf/nn/conv2d). \n",
    "\n",
    "Let's begin!\n",
    "\n",
    "### Input\n",
    "The neural network needs to read the image data, one-hot encoded labels, and dropout keep probability. Implement the following functions\n",
    "* Implement `neural_net_image_input`\n",
    " * Return a [TF Placeholder](https://www.tensorflow.org/api_docs/python/tf/placeholder)\n",
    " * Set the shape using `image_shape` with batch size set to `None`.\n",
    " * Name the TensorFlow placeholder \"x\" using the TensorFlow `name` parameter in the [TF Placeholder](https://www.tensorflow.org/api_docs/python/tf/placeholder).\n",
    "* Implement `neural_net_label_input`\n",
    " * Return a [TF Placeholder](https://www.tensorflow.org/api_docs/python/tf/placeholder)\n",
    " * Set the shape using `n_classes` with batch size set to `None`.\n",
    " * Name the TensorFlow placeholder \"y\" using the TensorFlow `name` parameter in the [TF Placeholder](https://www.tensorflow.org/api_docs/python/tf/placeholder).\n",
    "* Implement `neural_net_keep_prob_input`\n",
    " * Return a [TF Placeholder](https://www.tensorflow.org/api_docs/python/tf/placeholder) for dropout keep probability.\n",
    " * Name the TensorFlow placeholder \"keep_prob\" using the TensorFlow `name` parameter in the [TF Placeholder](https://www.tensorflow.org/api_docs/python/tf/placeholder).\n",
    "\n",
    "These names will be used at the end of the project to load your saved model.\n",
    "\n",
    "Note: `None` for shapes in TensorFlow allow for a dynamic size."
   ]
  },
  {
   "cell_type": "code",
   "execution_count": 113,
   "metadata": {},
   "outputs": [
    {
     "name": "stdout",
     "output_type": "stream",
     "text": [
      "Image Input Tests Passed.\n",
      "Label Input Tests Passed.\n",
      "Keep Prob Tests Passed.\n"
     ]
    }
   ],
   "source": [
    "import tensorflow as tf\n",
    "\n",
    "def neural_net_image_input(image_shape):\n",
    "    \"\"\"\n",
    "    Return a Tensor for a batch of image input\n",
    "    : image_shape: Shape of the images\n",
    "    : return: Tensor for image input.\n",
    "    \"\"\"\n",
    "    # TODO: Implement Function\n",
    "    image = tf.placeholder(tf.float32, shape=(None, image_shape[0], image_shape[1], image_shape[2]), name='x')\n",
    "    return image\n",
    "\n",
    "\n",
    "def neural_net_label_input(n_classes):\n",
    "    \"\"\"\n",
    "    Return a Tensor for a batch of label input\n",
    "    : n_classes: Number of classes\n",
    "    : return: Tensor for label input.\n",
    "    \"\"\"\n",
    "    # TODO: Implement Function\n",
    "    label = tf.placeholder(tf.float32, shape=(None, n_classes), name='y')\n",
    "    return label\n",
    "\n",
    "\n",
    "def neural_net_keep_prob_input():\n",
    "    \"\"\"\n",
    "    Return a Tensor for keep probability\n",
    "    : return: Tensor for keep probability.\n",
    "    \"\"\"\n",
    "    # TODO: Implement Function\n",
    "    keep_prob = tf.placeholder(tf.float32, shape=(None), name='keep_prob')\n",
    "    return keep_prob\n",
    "\n",
    "\n",
    "\"\"\"\n",
    "DON'T MODIFY ANYTHING IN THIS CELL THAT IS BELOW THIS LINE\n",
    "\"\"\"\n",
    "tf.reset_default_graph()\n",
    "tests.test_nn_image_inputs(neural_net_image_input)\n",
    "tests.test_nn_label_inputs(neural_net_label_input)\n",
    "tests.test_nn_keep_prob_inputs(neural_net_keep_prob_input)"
   ]
  },
  {
   "cell_type": "markdown",
   "metadata": {},
   "source": [
    "### Convolution and Max Pooling Layer\n",
    "Convolution layers have a lot of success with images. For this code cell, you should implement the function `conv2d_maxpool` to apply convolution then max pooling:\n",
    "* Create the weight and bias using `conv_ksize`, `conv_num_outputs` and the shape of `x_tensor`.\n",
    "* Apply a convolution to `x_tensor` using weight and `conv_strides`.\n",
    " * We recommend you use same padding, but you're welcome to use any padding.\n",
    "* Add bias\n",
    "* Add a nonlinear activation to the convolution.\n",
    "* Apply Max Pooling using `pool_ksize` and `pool_strides`.\n",
    " * We recommend you use same padding, but you're welcome to use any padding.\n",
    "\n",
    "**Note:** You **can't** use [TensorFlow Layers](https://www.tensorflow.org/api_docs/python/tf/layers) or [TensorFlow Layers (contrib)](https://www.tensorflow.org/api_guides/python/contrib.layers) for **this** layer, but you can still use TensorFlow's [Neural Network](https://www.tensorflow.org/api_docs/python/tf/nn) package. You may still use the shortcut option for all the **other** layers."
   ]
  },
  {
   "cell_type": "code",
   "execution_count": 114,
   "metadata": {},
   "outputs": [
    {
     "name": "stdout",
     "output_type": "stream",
     "text": [
      "Tests Passed\n"
     ]
    }
   ],
   "source": [
    "def conv2d_maxpool(x_tensor, conv_num_outputs, conv_ksize, conv_strides, pool_ksize, pool_strides):\n",
    "    \"\"\"\n",
    "    Apply convolution then max pooling to x_tensor\n",
    "    :param x_tensor: TensorFlow Tensor\n",
    "    :param conv_num_outputs: Number of outputs for the convolutional layer\n",
    "    :param conv_ksize: kernal size 2-D Tuple for the convolutional layer\n",
    "    :param conv_strides: Stride 2-D Tuple for convolution\n",
    "    :param pool_ksize: kernal size 2-D Tuple for pool\n",
    "    :param pool_strides: Stride 2-D Tuple for pool\n",
    "    : return: A tensor that represents convolution and max pooling of x_tensor\n",
    "    \"\"\"\n",
    "    # TODO: Implement Function\n",
    "    x_shape = x_tensor.get_shape().as_list()\n",
    "    W = tf.Variable(tf.truncated_normal((conv_ksize[0], conv_ksize[1], x_shape[3], conv_num_outputs)))\n",
    "    b = tf.Variable(tf.zeros(conv_num_outputs))\n",
    "    \n",
    "    #Convolution_layer\n",
    "    conv_x = tf.nn.conv2d(x_tensor, W, strides=[1, conv_strides[0], conv_strides[1], 1], padding=\"SAME\")\n",
    "    x_output = tf.nn.bias_add(conv_x, b)\n",
    "    y_output = tf.nn.relu(x_output)\n",
    "    \n",
    "    #max_pooling\n",
    "    output_max_pool = tf.nn.max_pool(y_output, ksize=[1, pool_ksize[0], pool_ksize[1], 1], strides=[1, pool_strides[0], pool_strides[1], 1], padding=\"SAME\")\n",
    "    return output_max_pool\n",
    "\n",
    "\n",
    "\"\"\"\n",
    "DON'T MODIFY ANYTHING IN THIS CELL THAT IS BELOW THIS LINE\n",
    "\"\"\"\n",
    "tests.test_con_pool(conv2d_maxpool)"
   ]
  },
  {
   "cell_type": "markdown",
   "metadata": {},
   "source": [
    "### Flatten Layer\n",
    "Implement the `flatten` function to change the dimension of `x_tensor` from a 4-D tensor to a 2-D tensor.  The output should be the shape (*Batch Size*, *Flattened Image Size*). Shortcut option: you can use classes from the [TensorFlow Layers](https://www.tensorflow.org/api_docs/python/tf/layers) or [TensorFlow Layers (contrib)](https://www.tensorflow.org/api_guides/python/contrib.layers) packages for this layer. For more of a challenge, only use other TensorFlow packages."
   ]
  },
  {
   "cell_type": "code",
   "execution_count": 115,
   "metadata": {},
   "outputs": [
    {
     "name": "stdout",
     "output_type": "stream",
     "text": [
      "Tests Passed\n"
     ]
    }
   ],
   "source": [
    "def flatten(x_tensor):\n",
    "    \"\"\"\n",
    "    Flatten x_tensor to (Batch Size, Flattened Image Size)\n",
    "    : x_tensor: A tensor of size (Batch Size, ...), where ... are the image dimensions.\n",
    "    : return: A tensor of size (Batch Size, Flattened Image Size).\n",
    "    \"\"\"\n",
    "    # TODO: Implement Function\n",
    "    shape = x_tensor.get_shape().as_list()\n",
    "    dim = np.prod(shape[1:])\n",
    "    return tf.reshape(x_tensor, [-1, dim])\n",
    "\n",
    "\n",
    "\"\"\"\n",
    "DON'T MODIFY ANYTHING IN THIS CELL THAT IS BELOW THIS LINE\n",
    "\"\"\"\n",
    "tests.test_flatten(flatten)"
   ]
  },
  {
   "cell_type": "markdown",
   "metadata": {},
   "source": [
    "### Fully-Connected Layer\n",
    "Implement the `fully_conn` function to apply a fully connected layer to `x_tensor` with the shape (*Batch Size*, *num_outputs*). Shortcut option: you can use classes from the [TensorFlow Layers](https://www.tensorflow.org/api_docs/python/tf/layers) or [TensorFlow Layers (contrib)](https://www.tensorflow.org/api_guides/python/contrib.layers) packages for this layer. For more of a challenge, only use other TensorFlow packages."
   ]
  },
  {
   "cell_type": "code",
   "execution_count": 116,
   "metadata": {},
   "outputs": [
    {
     "name": "stdout",
     "output_type": "stream",
     "text": [
      "Tensor(\"fully_connected/Relu:0\", shape=(?, 40), dtype=float32)\n",
      "Tensor(\"dense/Relu:0\", shape=(?, 40), dtype=float32)\n",
      "Tests Passed\n"
     ]
    }
   ],
   "source": [
    "def fully_conn(x_tensor, num_outputs):\n",
    "    \"\"\"\n",
    "    Apply a fully connected layer to x_tensor using weight and bias\n",
    "    : x_tensor: A 2-D tensor where the first dimension is batch size.\n",
    "    : num_outputs: The number of output that the new tensor should be.\n",
    "    : return: A 2-D tensor where the second dimension is num_outputs.\n",
    "    \"\"\"\n",
    "    # TODO: Implement Function\n",
    "    print(tf.contrib.layers.fully_connected(x_tensor, num_outputs))\n",
    "    print(tf.layers.dense(x_tensor, num_outputs, tf.nn.relu))\n",
    "    return tf.layers.dense(x_tensor, num_outputs, tf.nn.relu)\n",
    "\n",
    "\n",
    "\"\"\"\n",
    "DON'T MODIFY ANYTHING IN THIS CELL THAT IS BELOW THIS LINE\n",
    "\"\"\"\n",
    "tests.test_fully_conn(fully_conn)"
   ]
  },
  {
   "cell_type": "markdown",
   "metadata": {},
   "source": [
    "### Output Layer\n",
    "Implement the `output` function to apply a fully connected layer to `x_tensor` with the shape (*Batch Size*, *num_outputs*). Shortcut option: you can use classes from the [TensorFlow Layers](https://www.tensorflow.org/api_docs/python/tf/layers) or [TensorFlow Layers (contrib)](https://www.tensorflow.org/api_guides/python/contrib.layers) packages for this layer. For more of a challenge, only use other TensorFlow packages.\n",
    "\n",
    "**Note:** Activation, softmax, or cross entropy should **not** be applied to this."
   ]
  },
  {
   "cell_type": "code",
   "execution_count": 117,
   "metadata": {},
   "outputs": [
    {
     "name": "stdout",
     "output_type": "stream",
     "text": [
      "Tests Passed\n"
     ]
    }
   ],
   "source": [
    "def output(x_tensor, num_outputs):\n",
    "    \"\"\"\n",
    "    Apply a output layer to x_tensor using weight and bias\n",
    "    : x_tensor: A 2-D tensor where the first dimension is batch size.\n",
    "    : num_outputs: The number of output that the new tensor should be.\n",
    "    : return: A 2-D tensor where the second dimension is num_outputs.\n",
    "    \"\"\"\n",
    "    # TODO: Implement Function\n",
    "    return tf.layers.dense(x_tensor, num_outputs)\n",
    "\n",
    "\n",
    "\"\"\"\n",
    "DON'T MODIFY ANYTHING IN THIS CELL THAT IS BELOW THIS LINE\n",
    "\"\"\"\n",
    "tests.test_output(output)"
   ]
  },
  {
   "cell_type": "markdown",
   "metadata": {},
   "source": [
    "### Create Convolutional Model\n",
    "Implement the function `conv_net` to create a convolutional neural network model. The function takes in a batch of images, `x`, and outputs logits.  Use the layers you created above to create this model:\n",
    "\n",
    "* Apply 1, 2, or 3 Convolution and Max Pool layers\n",
    "* Apply a Flatten Layer\n",
    "* Apply 1, 2, or 3 Fully Connected Layers\n",
    "* Apply an Output Layer\n",
    "* Return the output\n",
    "* Apply [TensorFlow's Dropout](https://www.tensorflow.org/api_docs/python/tf/nn/dropout) to one or more layers in the model using `keep_prob`. "
   ]
  },
  {
   "cell_type": "code",
   "execution_count": 152,
   "metadata": {},
   "outputs": [
    {
     "name": "stdout",
     "output_type": "stream",
     "text": [
      "Tensor(\"fully_connected/Relu:0\", shape=(?, 1024), dtype=float32)\n",
      "Tensor(\"dense/Relu:0\", shape=(?, 1024), dtype=float32)\n",
      "Tensor(\"fully_connected_1/Relu:0\", shape=(?, 1024), dtype=float32)\n",
      "Tensor(\"dense_4/Relu:0\", shape=(?, 1024), dtype=float32)\n",
      "Neural Network Built!\n"
     ]
    }
   ],
   "source": [
    "def conv_net(x, keep_prob):\n",
    "    \"\"\"\n",
    "    Create a convolutional neural network model\n",
    "    : x: Placeholder tensor that holds image data.\n",
    "    : keep_prob: Placeholder tensor that hold dropout keep probability.\n",
    "    : return: Tensor that represents logits\n",
    "    \"\"\"\n",
    "    # TODO: Apply 1, 2, or 3 Convolution and Max Pool layers\n",
    "    #    Play around with different number of outputs, kernel size and stride\n",
    "    # Function Definition from Above:\n",
    "    #    conv2d_maxpool(x_tensor, conv_num_outputs, conv_ksize, conv_strides, pool_ksize, pool_strides)\n",
    "    x_tensor = conv2d_maxpool(x, 8, [3, 3], [1, 1], [1, 1], [1, 1])\n",
    "    x_tensor = conv2d_maxpool(x_tensor, 16, [3, 3], [2, 2], [1, 1], [1, 1])\n",
    "    x_tensor = conv2d_maxpool(x_tensor, 32, [3, 3], [1, 1], [2, 2], [2, 2])\n",
    "    #x_tensor = conv2d_maxpool(x_tensor, 64, [4, 4], [2, 2], [2, 2], [2, 2])\n",
    "\n",
    "    # TODO: Apply a Flatten Layer\n",
    "    # Function Definition from Above:\n",
    "    #   flatten(x_tensor)\n",
    "    x_tensor = flatten(x_tensor)\n",
    "\n",
    "    # TODO: Apply 1, 2, or 3 Fully Connected Layers\n",
    "    #    Play around with different number of outputs\n",
    "    # Function Definition from Above:\n",
    "    #   fully_conn(x_tensor, num_outputs)\n",
    "    #x_tensor = fully_conn(x_tensor, 512)\n",
    "    #x_tensor = fully_conn(x_tensor, 2048)\n",
    "    x_tensor = fully_conn(x_tensor, 1024)\n",
    "    x_tensor = tf.nn.dropout(x_tensor, keep_prob)\n",
    "    \n",
    "    # TODO: Apply an Output Layer\n",
    "    #    Set this to the number of classes\n",
    "    # Function Definition from Above:\n",
    "    #   output(x_tensor, num_outputs)\n",
    "    x_tensor = output(x_tensor, 10)\n",
    "    \n",
    "    # TODO: return output\n",
    "    return x_tensor\n",
    "\n",
    "\n",
    "\"\"\"\n",
    "DON'T MODIFY ANYTHING IN THIS CELL THAT IS BELOW THIS LINE\n",
    "\"\"\"\n",
    "\n",
    "##############################\n",
    "## Build the Neural Network ##\n",
    "##############################\n",
    "\n",
    "# Remove previous weights, bias, inputs, etc..\n",
    "tf.reset_default_graph()\n",
    "\n",
    "# Inputs\n",
    "x = neural_net_image_input((32, 32, 3))\n",
    "y = neural_net_label_input(10)\n",
    "keep_prob = neural_net_keep_prob_input()\n",
    "\n",
    "# Model\n",
    "logits = conv_net(x, keep_prob)\n",
    "\n",
    "# Name logits Tensor, so that is can be loaded from disk after training\n",
    "logits = tf.identity(logits, name='logits')\n",
    "\n",
    "# Loss and Optimizer\n",
    "cost = tf.reduce_mean(tf.nn.softmax_cross_entropy_with_logits(logits=logits, labels=y))\n",
    "optimizer = tf.train.AdamOptimizer().minimize(cost)\n",
    "\n",
    "# Accuracy\n",
    "correct_pred = tf.equal(tf.argmax(logits, 1), tf.argmax(y, 1))\n",
    "accuracy = tf.reduce_mean(tf.cast(correct_pred, tf.float32), name='accuracy')\n",
    "\n",
    "tests.test_conv_net(conv_net)"
   ]
  },
  {
   "cell_type": "markdown",
   "metadata": {},
   "source": [
    "## Train the Neural Network\n",
    "### Single Optimization\n",
    "Implement the function `train_neural_network` to do a single optimization.  The optimization should use `optimizer` to optimize in `session` with a `feed_dict` of the following:\n",
    "* `x` for image input\n",
    "* `y` for labels\n",
    "* `keep_prob` for keep probability for dropout\n",
    "\n",
    "This function will be called for each batch, so `tf.global_variables_initializer()` has already been called.\n",
    "\n",
    "Note: Nothing needs to be returned. This function is only optimizing the neural network."
   ]
  },
  {
   "cell_type": "code",
   "execution_count": 129,
   "metadata": {},
   "outputs": [
    {
     "name": "stdout",
     "output_type": "stream",
     "text": [
      "Tests Passed\n"
     ]
    }
   ],
   "source": [
    "def train_neural_network(session, optimizer, keep_probability, feature_batch, label_batch):\n",
    "    \"\"\"\n",
    "    Optimize the session on a batch of images and labels\n",
    "    : session: Current TensorFlow session\n",
    "    : optimizer: TensorFlow optimizer function\n",
    "    : keep_probability: keep probability\n",
    "    : feature_batch: Batch of Numpy image data\n",
    "    : label_batch: Batch of Numpy label data\n",
    "    \"\"\"\n",
    "    # TODO: Implement Function\n",
    "    session.run(optimizer, feed_dict={x:feature_batch, y:label_batch, keep_prob:keep_probability})\n",
    "\n",
    "\n",
    "\"\"\"\n",
    "DON'T MODIFY ANYTHING IN THIS CELL THAT IS BELOW THIS LINE\n",
    "\"\"\"\n",
    "tests.test_train_nn(train_neural_network)"
   ]
  },
  {
   "cell_type": "markdown",
   "metadata": {},
   "source": [
    "### Show Stats\n",
    "Implement the function `print_stats` to print loss and validation accuracy.  Use the global variables `valid_features` and `valid_labels` to calculate validation accuracy.  Use a keep probability of `1.0` to calculate the loss and validation accuracy."
   ]
  },
  {
   "cell_type": "code",
   "execution_count": 130,
   "metadata": {
    "collapsed": true
   },
   "outputs": [],
   "source": [
    "def print_stats(session, feature_batch, label_batch, cost, accuracy):\n",
    "    \"\"\"\n",
    "    Print information about loss and validation accuracy\n",
    "    : session: Current TensorFlow session\n",
    "    : feature_batch: Batch of Numpy image data\n",
    "    : label_batch: Batch of Numpy label data\n",
    "    : cost: TensorFlow cost function\n",
    "    : accuracy: TensorFlow accuracy function\n",
    "    \"\"\"\n",
    "    # TODO: Implement Function\n",
    "    loss, acc = session.run([cost, accuracy], feed_dict={x:feature_batch, y:label_batch, keep_prob: 1})\n",
    "    print(\"Loss= \" + \"{:.6f}\".format(loss) + \", Training Accuracy= \" + \\\n",
    "                  \"{:.5f}\".format(acc))\n",
    "    #print(\"Loss: \" + loss + \" Acc: \" + acc)"
   ]
  },
  {
   "cell_type": "markdown",
   "metadata": {},
   "source": [
    "### Hyperparameters\n",
    "Tune the following parameters:\n",
    "* Set `epochs` to the number of iterations until the network stops learning or start overfitting\n",
    "* Set `batch_size` to the highest number that your machine has memory for.  Most people set them to common sizes of memory:\n",
    " * 64\n",
    " * 128\n",
    " * 256\n",
    " * ...\n",
    "* Set `keep_probability` to the probability of keeping a node using dropout"
   ]
  },
  {
   "cell_type": "code",
   "execution_count": 162,
   "metadata": {
    "collapsed": true
   },
   "outputs": [],
   "source": [
    "# TODO: Tune Parameters\n",
    "epochs = 40\n",
    "batch_size = 512\n",
    "keep_probability = 0.6"
   ]
  },
  {
   "cell_type": "markdown",
   "metadata": {},
   "source": [
    "### Train on a Single CIFAR-10 Batch\n",
    "Instead of training the neural network on all the CIFAR-10 batches of data, let's use a single batch. This should save time while you iterate on the model to get a better accuracy.  Once the final validation accuracy is 50% or greater, run the model on all the data in the next section."
   ]
  },
  {
   "cell_type": "code",
   "execution_count": 153,
   "metadata": {},
   "outputs": [
    {
     "name": "stdout",
     "output_type": "stream",
     "text": [
      "Checking the Training on a Single Batch...\n",
      "Epoch  1, CIFAR-10 Batch 1:  Loss= 17.207781, Training Accuracy= 0.15878\n",
      "Epoch  2, CIFAR-10 Batch 1:  Loss= 2.277373, Training Accuracy= 0.14527\n",
      "Epoch  3, CIFAR-10 Batch 1:  Loss= 2.266711, Training Accuracy= 0.13176\n",
      "Epoch  4, CIFAR-10 Batch 1:  Loss= 2.275180, Training Accuracy= 0.12500\n",
      "Epoch  5, CIFAR-10 Batch 1:  Loss= 2.243500, Training Accuracy= 0.14189\n",
      "Epoch  6, CIFAR-10 Batch 1:  Loss= 2.227043, Training Accuracy= 0.15878\n",
      "Epoch  7, CIFAR-10 Batch 1:  Loss= 2.215068, Training Accuracy= 0.16554\n",
      "Epoch  8, CIFAR-10 Batch 1:  Loss= 2.194854, Training Accuracy= 0.16892\n",
      "Epoch  9, CIFAR-10 Batch 1:  Loss= 2.180464, Training Accuracy= 0.17568\n",
      "Epoch 10, CIFAR-10 Batch 1:  Loss= 2.152379, Training Accuracy= 0.21284\n",
      "Epoch 11, CIFAR-10 Batch 1:  Loss= 2.152755, Training Accuracy= 0.20946\n",
      "Epoch 12, CIFAR-10 Batch 1:  Loss= 2.114581, Training Accuracy= 0.22635\n",
      "Epoch 13, CIFAR-10 Batch 1:  Loss= 2.092546, Training Accuracy= 0.20608\n",
      "Epoch 14, CIFAR-10 Batch 1:  Loss= 2.081776, Training Accuracy= 0.23311\n",
      "Epoch 15, CIFAR-10 Batch 1:  Loss= 2.080941, Training Accuracy= 0.22635\n",
      "Epoch 16, CIFAR-10 Batch 1:  Loss= 2.066302, Training Accuracy= 0.22297\n",
      "Epoch 17, CIFAR-10 Batch 1:  Loss= 2.025809, Training Accuracy= 0.25000\n",
      "Epoch 18, CIFAR-10 Batch 1:  Loss= 2.007952, Training Accuracy= 0.28378\n",
      "Epoch 19, CIFAR-10 Batch 1:  Loss= 1.985879, Training Accuracy= 0.28378\n",
      "Epoch 20, CIFAR-10 Batch 1:  Loss= 1.959269, Training Accuracy= 0.29392\n",
      "Epoch 21, CIFAR-10 Batch 1:  Loss= 1.936051, Training Accuracy= 0.31081\n",
      "Epoch 22, CIFAR-10 Batch 1:  Loss= 1.902390, Training Accuracy= 0.33784\n",
      "Epoch 23, CIFAR-10 Batch 1:  Loss= 1.866239, Training Accuracy= 0.32095\n",
      "Epoch 24, CIFAR-10 Batch 1:  Loss= 1.833041, Training Accuracy= 0.33446\n",
      "Epoch 25, CIFAR-10 Batch 1:  Loss= 1.819098, Training Accuracy= 0.32770\n",
      "Epoch 26, CIFAR-10 Batch 1:  Loss= 1.811837, Training Accuracy= 0.33784\n",
      "Epoch 27, CIFAR-10 Batch 1:  Loss= 1.798418, Training Accuracy= 0.37838\n",
      "Epoch 28, CIFAR-10 Batch 1:  Loss= 1.751662, Training Accuracy= 0.40203\n",
      "Epoch 29, CIFAR-10 Batch 1:  Loss= 1.723783, Training Accuracy= 0.41892\n",
      "Epoch 30, CIFAR-10 Batch 1:  Loss= 1.687344, Training Accuracy= 0.41554\n",
      "Epoch 31, CIFAR-10 Batch 1:  Loss= 1.677800, Training Accuracy= 0.44257\n",
      "Epoch 32, CIFAR-10 Batch 1:  Loss= 1.619962, Training Accuracy= 0.42905\n",
      "Epoch 33, CIFAR-10 Batch 1:  Loss= 1.609619, Training Accuracy= 0.42230\n",
      "Epoch 34, CIFAR-10 Batch 1:  Loss= 1.602892, Training Accuracy= 0.46959\n",
      "Epoch 35, CIFAR-10 Batch 1:  Loss= 1.542732, Training Accuracy= 0.45946\n",
      "Epoch 36, CIFAR-10 Batch 1:  Loss= 1.502849, Training Accuracy= 0.50000\n",
      "Epoch 37, CIFAR-10 Batch 1:  Loss= 1.483625, Training Accuracy= 0.49662\n",
      "Epoch 38, CIFAR-10 Batch 1:  Loss= 1.464228, Training Accuracy= 0.51351\n",
      "Epoch 39, CIFAR-10 Batch 1:  Loss= 1.440037, Training Accuracy= 0.51689\n",
      "Epoch 40, CIFAR-10 Batch 1:  Loss= 1.454692, Training Accuracy= 0.53716\n",
      "Epoch 41, CIFAR-10 Batch 1:  Loss= 1.419825, Training Accuracy= 0.55405\n",
      "Epoch 42, CIFAR-10 Batch 1:  Loss= 1.367517, Training Accuracy= 0.55743\n",
      "Epoch 43, CIFAR-10 Batch 1:  Loss= 1.364400, Training Accuracy= 0.56081\n",
      "Epoch 44, CIFAR-10 Batch 1:  Loss= 1.323255, Training Accuracy= 0.57095\n",
      "Epoch 45, CIFAR-10 Batch 1:  Loss= 1.310282, Training Accuracy= 0.58446\n",
      "Epoch 46, CIFAR-10 Batch 1:  Loss= 1.293813, Training Accuracy= 0.54730\n",
      "Epoch 47, CIFAR-10 Batch 1:  Loss= 1.290217, Training Accuracy= 0.55405\n",
      "Epoch 48, CIFAR-10 Batch 1:  Loss= 1.275864, Training Accuracy= 0.60135\n",
      "Epoch 49, CIFAR-10 Batch 1:  Loss= 1.317899, Training Accuracy= 0.59122\n",
      "Epoch 50, CIFAR-10 Batch 1:  Loss= 1.279941, Training Accuracy= 0.62162\n"
     ]
    }
   ],
   "source": [
    "\"\"\"\n",
    "DON'T MODIFY ANYTHING IN THIS CELL\n",
    "\"\"\"\n",
    "print('Checking the Training on a Single Batch...')\n",
    "with tf.Session() as sess:\n",
    "    # Initializing the variables\n",
    "    sess.run(tf.global_variables_initializer())\n",
    "    \n",
    "    # Training cycle\n",
    "    for epoch in range(epochs):\n",
    "        batch_i = 1\n",
    "        for batch_features, batch_labels in helper.load_preprocess_training_batch(batch_i, batch_size):\n",
    "            train_neural_network(sess, optimizer, keep_probability, batch_features, batch_labels)\n",
    "        print('Epoch {:>2}, CIFAR-10 Batch {}:  '.format(epoch + 1, batch_i), end='')\n",
    "        print_stats(sess, batch_features, batch_labels, cost, accuracy)"
   ]
  },
  {
   "cell_type": "markdown",
   "metadata": {},
   "source": [
    "### Fully Train the Model\n",
    "Now that you got a good accuracy with a single CIFAR-10 batch, try it with all five batches."
   ]
  },
  {
   "cell_type": "code",
   "execution_count": 163,
   "metadata": {},
   "outputs": [
    {
     "name": "stdout",
     "output_type": "stream",
     "text": [
      "Training...\n",
      "Epoch  1, CIFAR-10 Batch 1:  Loss= 31.454014, Training Accuracy= 0.17905\n",
      "Epoch  1, CIFAR-10 Batch 2:  Loss= 2.261738, Training Accuracy= 0.13176\n",
      "Epoch  1, CIFAR-10 Batch 3:  Loss= 2.263264, Training Accuracy= 0.13514\n",
      "Epoch  1, CIFAR-10 Batch 4:  Loss= 2.257998, Training Accuracy= 0.15878\n",
      "Epoch  1, CIFAR-10 Batch 5:  Loss= 2.280863, Training Accuracy= 0.14189\n",
      "Epoch  2, CIFAR-10 Batch 1:  Loss= 2.237331, Training Accuracy= 0.15878\n",
      "Epoch  2, CIFAR-10 Batch 2:  Loss= 2.213933, Training Accuracy= 0.16554\n",
      "Epoch  2, CIFAR-10 Batch 3:  Loss= 2.204383, Training Accuracy= 0.15878\n",
      "Epoch  2, CIFAR-10 Batch 4:  Loss= 2.194482, Training Accuracy= 0.20608\n",
      "Epoch  2, CIFAR-10 Batch 5:  Loss= 2.260877, Training Accuracy= 0.17905\n",
      "Epoch  3, CIFAR-10 Batch 1:  Loss= 2.203764, Training Accuracy= 0.18919\n",
      "Epoch  3, CIFAR-10 Batch 2:  Loss= 2.111090, Training Accuracy= 0.26351\n",
      "Epoch  3, CIFAR-10 Batch 3:  Loss= 2.123956, Training Accuracy= 0.22297\n",
      "Epoch  3, CIFAR-10 Batch 4:  Loss= 2.083241, Training Accuracy= 0.25676\n",
      "Epoch  3, CIFAR-10 Batch 5:  Loss= 2.151657, Training Accuracy= 0.22635\n",
      "Epoch  4, CIFAR-10 Batch 1:  Loss= 2.152369, Training Accuracy= 0.21959\n",
      "Epoch  4, CIFAR-10 Batch 2:  Loss= 1.997713, Training Accuracy= 0.25338\n",
      "Epoch  4, CIFAR-10 Batch 3:  Loss= 2.014285, Training Accuracy= 0.26351\n",
      "Epoch  4, CIFAR-10 Batch 4:  Loss= 1.973688, Training Accuracy= 0.26689\n",
      "Epoch  4, CIFAR-10 Batch 5:  Loss= 2.055882, Training Accuracy= 0.26351\n",
      "Epoch  5, CIFAR-10 Batch 1:  Loss= 2.048899, Training Accuracy= 0.30068\n",
      "Epoch  5, CIFAR-10 Batch 2:  Loss= 1.968584, Training Accuracy= 0.23986\n",
      "Epoch  5, CIFAR-10 Batch 3:  Loss= 1.961290, Training Accuracy= 0.28378\n",
      "Epoch  5, CIFAR-10 Batch 4:  Loss= 1.894063, Training Accuracy= 0.32770\n",
      "Epoch  5, CIFAR-10 Batch 5:  Loss= 1.981486, Training Accuracy= 0.31081\n",
      "Epoch  6, CIFAR-10 Batch 1:  Loss= 1.950525, Training Accuracy= 0.32095\n",
      "Epoch  6, CIFAR-10 Batch 2:  Loss= 1.873937, Training Accuracy= 0.30068\n",
      "Epoch  6, CIFAR-10 Batch 3:  Loss= 1.894437, Training Accuracy= 0.33446\n",
      "Epoch  6, CIFAR-10 Batch 4:  Loss= 1.845809, Training Accuracy= 0.36149\n",
      "Epoch  6, CIFAR-10 Batch 5:  Loss= 1.937572, Training Accuracy= 0.30405\n",
      "Epoch  7, CIFAR-10 Batch 1:  Loss= 1.889651, Training Accuracy= 0.34459\n",
      "Epoch  7, CIFAR-10 Batch 2:  Loss= 1.790613, Training Accuracy= 0.38514\n",
      "Epoch  7, CIFAR-10 Batch 3:  Loss= 1.805149, Training Accuracy= 0.33108\n",
      "Epoch  7, CIFAR-10 Batch 4:  Loss= 1.754104, Training Accuracy= 0.41892\n",
      "Epoch  7, CIFAR-10 Batch 5:  Loss= 1.858282, Training Accuracy= 0.32770\n",
      "Epoch  8, CIFAR-10 Batch 1:  Loss= 1.847620, Training Accuracy= 0.32770\n",
      "Epoch  8, CIFAR-10 Batch 2:  Loss= 1.780352, Training Accuracy= 0.35135\n",
      "Epoch  8, CIFAR-10 Batch 3:  Loss= 1.790920, Training Accuracy= 0.35135\n",
      "Epoch  8, CIFAR-10 Batch 4:  Loss= 1.735668, Training Accuracy= 0.37838\n",
      "Epoch  8, CIFAR-10 Batch 5:  Loss= 1.810462, Training Accuracy= 0.37838\n",
      "Epoch  9, CIFAR-10 Batch 1:  Loss= 1.812492, Training Accuracy= 0.32432\n",
      "Epoch  9, CIFAR-10 Batch 2:  Loss= 1.716655, Training Accuracy= 0.41216\n",
      "Epoch  9, CIFAR-10 Batch 3:  Loss= 1.759539, Training Accuracy= 0.36824\n",
      "Epoch  9, CIFAR-10 Batch 4:  Loss= 1.682026, Training Accuracy= 0.40541\n",
      "Epoch  9, CIFAR-10 Batch 5:  Loss= 1.775927, Training Accuracy= 0.36824\n",
      "Epoch 10, CIFAR-10 Batch 1:  Loss= 1.765172, Training Accuracy= 0.35473\n",
      "Epoch 10, CIFAR-10 Batch 2:  Loss= 1.690303, Training Accuracy= 0.41554\n",
      "Epoch 10, CIFAR-10 Batch 3:  Loss= 1.653606, Training Accuracy= 0.39865\n",
      "Epoch 10, CIFAR-10 Batch 4:  Loss= 1.662331, Training Accuracy= 0.41892\n",
      "Epoch 10, CIFAR-10 Batch 5:  Loss= 1.701946, Training Accuracy= 0.39527\n",
      "Epoch 11, CIFAR-10 Batch 1:  Loss= 1.725845, Training Accuracy= 0.36149\n",
      "Epoch 11, CIFAR-10 Batch 2:  Loss= 1.627200, Training Accuracy= 0.43919\n",
      "Epoch 11, CIFAR-10 Batch 3:  Loss= 1.633987, Training Accuracy= 0.42905\n",
      "Epoch 11, CIFAR-10 Batch 4:  Loss= 1.562418, Training Accuracy= 0.44595\n",
      "Epoch 11, CIFAR-10 Batch 5:  Loss= 1.686028, Training Accuracy= 0.40541\n",
      "Epoch 12, CIFAR-10 Batch 1:  Loss= 1.682478, Training Accuracy= 0.37500\n",
      "Epoch 12, CIFAR-10 Batch 2:  Loss= 1.593339, Training Accuracy= 0.43919\n",
      "Epoch 12, CIFAR-10 Batch 3:  Loss= 1.616782, Training Accuracy= 0.42230\n",
      "Epoch 12, CIFAR-10 Batch 4:  Loss= 1.581511, Training Accuracy= 0.41554\n",
      "Epoch 12, CIFAR-10 Batch 5:  Loss= 1.665865, Training Accuracy= 0.42568\n",
      "Epoch 13, CIFAR-10 Batch 1:  Loss= 1.666660, Training Accuracy= 0.41892\n",
      "Epoch 13, CIFAR-10 Batch 2:  Loss= 1.623849, Training Accuracy= 0.41216\n",
      "Epoch 13, CIFAR-10 Batch 3:  Loss= 1.595158, Training Accuracy= 0.43919\n",
      "Epoch 13, CIFAR-10 Batch 4:  Loss= 1.536444, Training Accuracy= 0.46284\n",
      "Epoch 13, CIFAR-10 Batch 5:  Loss= 1.653909, Training Accuracy= 0.46284\n",
      "Epoch 14, CIFAR-10 Batch 1:  Loss= 1.621653, Training Accuracy= 0.40878\n",
      "Epoch 14, CIFAR-10 Batch 2:  Loss= 1.519572, Training Accuracy= 0.44932\n",
      "Epoch 14, CIFAR-10 Batch 3:  Loss= 1.513437, Training Accuracy= 0.45270\n",
      "Epoch 14, CIFAR-10 Batch 4:  Loss= 1.517205, Training Accuracy= 0.44257\n",
      "Epoch 14, CIFAR-10 Batch 5:  Loss= 1.636369, Training Accuracy= 0.44595\n",
      "Epoch 15, CIFAR-10 Batch 1:  Loss= 1.669559, Training Accuracy= 0.40541\n",
      "Epoch 15, CIFAR-10 Batch 2:  Loss= 1.509665, Training Accuracy= 0.46284\n",
      "Epoch 15, CIFAR-10 Batch 3:  Loss= 1.544847, Training Accuracy= 0.40878\n",
      "Epoch 15, CIFAR-10 Batch 4:  Loss= 1.456245, Training Accuracy= 0.46959\n",
      "Epoch 15, CIFAR-10 Batch 5:  Loss= 1.595570, Training Accuracy= 0.46959\n",
      "Epoch 16, CIFAR-10 Batch 1:  Loss= 1.550732, Training Accuracy= 0.42568\n",
      "Epoch 16, CIFAR-10 Batch 2:  Loss= 1.472227, Training Accuracy= 0.45270\n",
      "Epoch 16, CIFAR-10 Batch 3:  Loss= 1.538043, Training Accuracy= 0.44257\n",
      "Epoch 16, CIFAR-10 Batch 4:  Loss= 1.468527, Training Accuracy= 0.45270\n",
      "Epoch 16, CIFAR-10 Batch 5:  Loss= 1.563576, Training Accuracy= 0.48986\n",
      "Epoch 17, CIFAR-10 Batch 1:  Loss= 1.511177, Training Accuracy= 0.45608\n",
      "Epoch 17, CIFAR-10 Batch 2:  Loss= 1.538076, Training Accuracy= 0.48986\n",
      "Epoch 17, CIFAR-10 Batch 3:  Loss= 1.490318, Training Accuracy= 0.44257\n",
      "Epoch 17, CIFAR-10 Batch 4:  Loss= 1.409689, Training Accuracy= 0.50000\n",
      "Epoch 17, CIFAR-10 Batch 5:  Loss= 1.535506, Training Accuracy= 0.47973\n",
      "Epoch 18, CIFAR-10 Batch 1:  Loss= 1.493610, Training Accuracy= 0.47297\n",
      "Epoch 18, CIFAR-10 Batch 2:  Loss= 1.462092, Training Accuracy= 0.48649\n",
      "Epoch 18, CIFAR-10 Batch 3:  Loss= 1.459489, Training Accuracy= 0.46622\n",
      "Epoch 18, CIFAR-10 Batch 4:  Loss= 1.380660, Training Accuracy= 0.53041\n",
      "Epoch 18, CIFAR-10 Batch 5:  Loss= 1.518355, Training Accuracy= 0.44595\n",
      "Epoch 19, CIFAR-10 Batch 1:  Loss= 1.463857, Training Accuracy= 0.44932\n",
      "Epoch 19, CIFAR-10 Batch 2:  Loss= 1.506813, Training Accuracy= 0.50338\n",
      "Epoch 19, CIFAR-10 Batch 3:  Loss= 1.436100, Training Accuracy= 0.48311\n",
      "Epoch 19, CIFAR-10 Batch 4:  Loss= 1.352079, Training Accuracy= 0.51689\n",
      "Epoch 19, CIFAR-10 Batch 5:  Loss= 1.480653, Training Accuracy= 0.47635\n",
      "Epoch 20, CIFAR-10 Batch 1:  Loss= 1.452735, Training Accuracy= 0.45608\n",
      "Epoch 20, CIFAR-10 Batch 2:  Loss= 1.454669, Training Accuracy= 0.49324\n",
      "Epoch 20, CIFAR-10 Batch 3:  Loss= 1.413910, Training Accuracy= 0.46622\n",
      "Epoch 20, CIFAR-10 Batch 4:  Loss= 1.376294, Training Accuracy= 0.51351\n",
      "Epoch 20, CIFAR-10 Batch 5:  Loss= 1.411744, Training Accuracy= 0.49324\n",
      "Epoch 21, CIFAR-10 Batch 1:  Loss= 1.477990, Training Accuracy= 0.47973\n",
      "Epoch 21, CIFAR-10 Batch 2:  Loss= 1.441443, Training Accuracy= 0.51351\n",
      "Epoch 21, CIFAR-10 Batch 3:  Loss= 1.370474, Training Accuracy= 0.51014\n",
      "Epoch 21, CIFAR-10 Batch 4:  Loss= 1.341199, Training Accuracy= 0.53716\n",
      "Epoch 21, CIFAR-10 Batch 5:  Loss= 1.403448, Training Accuracy= 0.51014\n",
      "Epoch 22, CIFAR-10 Batch 1:  Loss= 1.423594, Training Accuracy= 0.46622\n",
      "Epoch 22, CIFAR-10 Batch 2:  Loss= 1.365923, Training Accuracy= 0.50338\n",
      "Epoch 22, CIFAR-10 Batch 3:  Loss= 1.395463, Training Accuracy= 0.48311\n",
      "Epoch 22, CIFAR-10 Batch 4:  Loss= 1.325861, Training Accuracy= 0.53041\n",
      "Epoch 22, CIFAR-10 Batch 5:  Loss= 1.394499, Training Accuracy= 0.51351\n",
      "Epoch 23, CIFAR-10 Batch 1:  Loss= 1.438792, Training Accuracy= 0.47973\n",
      "Epoch 23, CIFAR-10 Batch 2:  Loss= 1.464146, Training Accuracy= 0.50676\n",
      "Epoch 23, CIFAR-10 Batch 3:  Loss= 1.341609, Training Accuracy= 0.50676\n",
      "Epoch 23, CIFAR-10 Batch 4:  Loss= 1.318890, Training Accuracy= 0.55743\n"
     ]
    },
    {
     "name": "stdout",
     "output_type": "stream",
     "text": [
      "Epoch 23, CIFAR-10 Batch 5:  Loss= 1.351827, Training Accuracy= 0.53716\n",
      "Epoch 24, CIFAR-10 Batch 1:  Loss= 1.377513, Training Accuracy= 0.52027\n",
      "Epoch 24, CIFAR-10 Batch 2:  Loss= 1.399302, Training Accuracy= 0.52365\n",
      "Epoch 24, CIFAR-10 Batch 3:  Loss= 1.338659, Training Accuracy= 0.47635\n",
      "Epoch 24, CIFAR-10 Batch 4:  Loss= 1.290279, Training Accuracy= 0.51014\n",
      "Epoch 24, CIFAR-10 Batch 5:  Loss= 1.366282, Training Accuracy= 0.54392\n",
      "Epoch 25, CIFAR-10 Batch 1:  Loss= 1.427690, Training Accuracy= 0.47635\n",
      "Epoch 25, CIFAR-10 Batch 2:  Loss= 1.394012, Training Accuracy= 0.51014\n",
      "Epoch 25, CIFAR-10 Batch 3:  Loss= 1.329128, Training Accuracy= 0.50676\n",
      "Epoch 25, CIFAR-10 Batch 4:  Loss= 1.274441, Training Accuracy= 0.52365\n",
      "Epoch 25, CIFAR-10 Batch 5:  Loss= 1.344675, Training Accuracy= 0.53041\n",
      "Epoch 26, CIFAR-10 Batch 1:  Loss= 1.353568, Training Accuracy= 0.48311\n",
      "Epoch 26, CIFAR-10 Batch 2:  Loss= 1.371334, Training Accuracy= 0.53716\n",
      "Epoch 26, CIFAR-10 Batch 3:  Loss= 1.302259, Training Accuracy= 0.52365\n",
      "Epoch 26, CIFAR-10 Batch 4:  Loss= 1.235304, Training Accuracy= 0.55743\n",
      "Epoch 26, CIFAR-10 Batch 5:  Loss= 1.306993, Training Accuracy= 0.55068\n",
      "Epoch 27, CIFAR-10 Batch 1:  Loss= 1.351570, Training Accuracy= 0.51351\n",
      "Epoch 27, CIFAR-10 Batch 2:  Loss= 1.310371, Training Accuracy= 0.55405\n",
      "Epoch 27, CIFAR-10 Batch 3:  Loss= 1.290195, Training Accuracy= 0.52027\n",
      "Epoch 27, CIFAR-10 Batch 4:  Loss= 1.245452, Training Accuracy= 0.56081\n",
      "Epoch 27, CIFAR-10 Batch 5:  Loss= 1.316681, Training Accuracy= 0.55068\n",
      "Epoch 28, CIFAR-10 Batch 1:  Loss= 1.316165, Training Accuracy= 0.54054\n",
      "Epoch 28, CIFAR-10 Batch 2:  Loss= 1.281321, Training Accuracy= 0.55743\n",
      "Epoch 28, CIFAR-10 Batch 3:  Loss= 1.283412, Training Accuracy= 0.51014\n",
      "Epoch 28, CIFAR-10 Batch 4:  Loss= 1.259058, Training Accuracy= 0.53041\n",
      "Epoch 28, CIFAR-10 Batch 5:  Loss= 1.278143, Training Accuracy= 0.59459\n",
      "Epoch 29, CIFAR-10 Batch 1:  Loss= 1.328478, Training Accuracy= 0.52365\n",
      "Epoch 29, CIFAR-10 Batch 2:  Loss= 1.312304, Training Accuracy= 0.56757\n",
      "Epoch 29, CIFAR-10 Batch 3:  Loss= 1.229188, Training Accuracy= 0.57432\n",
      "Epoch 29, CIFAR-10 Batch 4:  Loss= 1.233447, Training Accuracy= 0.57095\n",
      "Epoch 29, CIFAR-10 Batch 5:  Loss= 1.292294, Training Accuracy= 0.58108\n",
      "Epoch 30, CIFAR-10 Batch 1:  Loss= 1.338182, Training Accuracy= 0.52027\n",
      "Epoch 30, CIFAR-10 Batch 2:  Loss= 1.317401, Training Accuracy= 0.52027\n",
      "Epoch 30, CIFAR-10 Batch 3:  Loss= 1.231391, Training Accuracy= 0.51689\n",
      "Epoch 30, CIFAR-10 Batch 4:  Loss= 1.201763, Training Accuracy= 0.60135\n",
      "Epoch 30, CIFAR-10 Batch 5:  Loss= 1.296412, Training Accuracy= 0.57770\n",
      "Epoch 31, CIFAR-10 Batch 1:  Loss= 1.345957, Training Accuracy= 0.49662\n",
      "Epoch 31, CIFAR-10 Batch 2:  Loss= 1.329578, Training Accuracy= 0.55743\n",
      "Epoch 31, CIFAR-10 Batch 3:  Loss= 1.176389, Training Accuracy= 0.54730\n",
      "Epoch 31, CIFAR-10 Batch 4:  Loss= 1.162007, Training Accuracy= 0.60135\n",
      "Epoch 31, CIFAR-10 Batch 5:  Loss= 1.241482, Training Accuracy= 0.60135\n",
      "Epoch 32, CIFAR-10 Batch 1:  Loss= 1.312560, Training Accuracy= 0.53041\n",
      "Epoch 32, CIFAR-10 Batch 2:  Loss= 1.274591, Training Accuracy= 0.58108\n",
      "Epoch 32, CIFAR-10 Batch 3:  Loss= 1.185102, Training Accuracy= 0.57770\n",
      "Epoch 32, CIFAR-10 Batch 4:  Loss= 1.184330, Training Accuracy= 0.62500\n",
      "Epoch 32, CIFAR-10 Batch 5:  Loss= 1.251440, Training Accuracy= 0.59122\n",
      "Epoch 33, CIFAR-10 Batch 1:  Loss= 1.279397, Training Accuracy= 0.56081\n",
      "Epoch 33, CIFAR-10 Batch 2:  Loss= 1.213716, Training Accuracy= 0.61149\n",
      "Epoch 33, CIFAR-10 Batch 3:  Loss= 1.157026, Training Accuracy= 0.58784\n",
      "Epoch 33, CIFAR-10 Batch 4:  Loss= 1.132284, Training Accuracy= 0.58446\n",
      "Epoch 33, CIFAR-10 Batch 5:  Loss= 1.204593, Training Accuracy= 0.58108\n",
      "Epoch 34, CIFAR-10 Batch 1:  Loss= 1.258267, Training Accuracy= 0.53378\n",
      "Epoch 34, CIFAR-10 Batch 2:  Loss= 1.197963, Training Accuracy= 0.61149\n",
      "Epoch 34, CIFAR-10 Batch 3:  Loss= 1.144018, Training Accuracy= 0.55743\n",
      "Epoch 34, CIFAR-10 Batch 4:  Loss= 1.128514, Training Accuracy= 0.61149\n",
      "Epoch 34, CIFAR-10 Batch 5:  Loss= 1.177353, Training Accuracy= 0.60135\n",
      "Epoch 35, CIFAR-10 Batch 1:  Loss= 1.257068, Training Accuracy= 0.55405\n",
      "Epoch 35, CIFAR-10 Batch 2:  Loss= 1.245359, Training Accuracy= 0.57095\n",
      "Epoch 35, CIFAR-10 Batch 3:  Loss= 1.134554, Training Accuracy= 0.58446\n",
      "Epoch 35, CIFAR-10 Batch 4:  Loss= 1.140042, Training Accuracy= 0.60473\n",
      "Epoch 35, CIFAR-10 Batch 5:  Loss= 1.202879, Training Accuracy= 0.62500\n",
      "Epoch 36, CIFAR-10 Batch 1:  Loss= 1.295281, Training Accuracy= 0.52703\n",
      "Epoch 36, CIFAR-10 Batch 2:  Loss= 1.178250, Training Accuracy= 0.61149\n",
      "Epoch 36, CIFAR-10 Batch 3:  Loss= 1.152518, Training Accuracy= 0.59459\n",
      "Epoch 36, CIFAR-10 Batch 4:  Loss= 1.121457, Training Accuracy= 0.62162\n",
      "Epoch 36, CIFAR-10 Batch 5:  Loss= 1.136088, Training Accuracy= 0.62838\n",
      "Epoch 37, CIFAR-10 Batch 1:  Loss= 1.261754, Training Accuracy= 0.55068\n",
      "Epoch 37, CIFAR-10 Batch 2:  Loss= 1.206172, Training Accuracy= 0.58108\n",
      "Epoch 37, CIFAR-10 Batch 3:  Loss= 1.056716, Training Accuracy= 0.61486\n",
      "Epoch 37, CIFAR-10 Batch 4:  Loss= 1.124836, Training Accuracy= 0.62162\n",
      "Epoch 37, CIFAR-10 Batch 5:  Loss= 1.144884, Training Accuracy= 0.61149\n",
      "Epoch 38, CIFAR-10 Batch 1:  Loss= 1.235669, Training Accuracy= 0.56419\n",
      "Epoch 38, CIFAR-10 Batch 2:  Loss= 1.163260, Training Accuracy= 0.60811\n",
      "Epoch 38, CIFAR-10 Batch 3:  Loss= 1.108108, Training Accuracy= 0.60811\n",
      "Epoch 38, CIFAR-10 Batch 4:  Loss= 1.097677, Training Accuracy= 0.61824\n",
      "Epoch 38, CIFAR-10 Batch 5:  Loss= 1.129025, Training Accuracy= 0.61149\n",
      "Epoch 39, CIFAR-10 Batch 1:  Loss= 1.209819, Training Accuracy= 0.56757\n",
      "Epoch 39, CIFAR-10 Batch 2:  Loss= 1.164196, Training Accuracy= 0.60473\n",
      "Epoch 39, CIFAR-10 Batch 3:  Loss= 1.078255, Training Accuracy= 0.63514\n",
      "Epoch 39, CIFAR-10 Batch 4:  Loss= 1.092666, Training Accuracy= 0.63176\n",
      "Epoch 39, CIFAR-10 Batch 5:  Loss= 1.110485, Training Accuracy= 0.65203\n",
      "Epoch 40, CIFAR-10 Batch 1:  Loss= 1.199293, Training Accuracy= 0.58446\n",
      "Epoch 40, CIFAR-10 Batch 2:  Loss= 1.142151, Training Accuracy= 0.62162\n",
      "Epoch 40, CIFAR-10 Batch 3:  Loss= 1.088063, Training Accuracy= 0.60473\n",
      "Epoch 40, CIFAR-10 Batch 4:  Loss= 1.053191, Training Accuracy= 0.63514\n",
      "Epoch 40, CIFAR-10 Batch 5:  Loss= 1.102678, Training Accuracy= 0.62500\n"
     ]
    }
   ],
   "source": [
    "\"\"\"\n",
    "DON'T MODIFY ANYTHING IN THIS CELL\n",
    "\"\"\"\n",
    "save_model_path = './image_classification'\n",
    "\n",
    "print('Training...')\n",
    "with tf.Session() as sess:\n",
    "    # Initializing the variables\n",
    "    sess.run(tf.global_variables_initializer())\n",
    "    \n",
    "    # Training cycle\n",
    "    for epoch in range(epochs):\n",
    "        # Loop over all batches\n",
    "        n_batches = 5\n",
    "        for batch_i in range(1, n_batches + 1):\n",
    "            for batch_features, batch_labels in helper.load_preprocess_training_batch(batch_i, batch_size):\n",
    "                train_neural_network(sess, optimizer, keep_probability, batch_features, batch_labels)\n",
    "            print('Epoch {:>2}, CIFAR-10 Batch {}:  '.format(epoch + 1, batch_i), end='')\n",
    "            print_stats(sess, batch_features, batch_labels, cost, accuracy)\n",
    "            \n",
    "    # Save Model\n",
    "    saver = tf.train.Saver()\n",
    "    save_path = saver.save(sess, save_model_path)"
   ]
  },
  {
   "cell_type": "markdown",
   "metadata": {},
   "source": [
    "# Checkpoint\n",
    "The model has been saved to disk.\n",
    "## Test Model\n",
    "Test your model against the test dataset.  This will be your final accuracy. You should have an accuracy greater than 50%. If you don't, keep tweaking the model architecture and parameters."
   ]
  },
  {
   "cell_type": "code",
   "execution_count": 164,
   "metadata": {},
   "outputs": [
    {
     "name": "stdout",
     "output_type": "stream",
     "text": [
      "Testing Accuracy: 0.5106043219566345\n",
      "\n"
     ]
    },
    {
     "data": {
      "image/png": "[encoded data removed]",
      "text/plain": [
       "<matplotlib.figure.Figure at 0x7f1f1060f860>"
      ]
     },
     "metadata": {
      "image/png": {
       "height": 319,
       "width": 355
      }
     },
     "output_type": "display_data"
    }
   ],
   "source": [
    "\"\"\"\n",
    "DON'T MODIFY ANYTHING IN THIS CELL\n",
    "\"\"\"\n",
    "%matplotlib inline\n",
    "%config InlineBackend.figure_format = 'retina'\n",
    "\n",
    "import tensorflow as tf\n",
    "import pickle\n",
    "import helper\n",
    "import random\n",
    "\n",
    "# Set batch size if not already set\n",
    "try:\n",
    "    if batch_size:\n",
    "        pass\n",
    "except NameError:\n",
    "    batch_size = 64\n",
    "\n",
    "save_model_path = './image_classification'\n",
    "n_samples = 4\n",
    "top_n_predictions = 3\n",
    "\n",
    "def test_model():\n",
    "    \"\"\"\n",
    "    Test the saved model against the test dataset\n",
    "    \"\"\"\n",
    "\n",
    "    test_features, test_labels = pickle.load(open('preprocess_test.p', mode='rb'))\n",
    "    loaded_graph = tf.Graph()\n",
    "\n",
    "    with tf.Session(graph=loaded_graph) as sess:\n",
    "        # Load model\n",
    "        loader = tf.train.import_meta_graph(save_model_path + '.meta')\n",
    "        loader.restore(sess, save_model_path)\n",
    "\n",
    "        # Get Tensors from loaded model\n",
    "        loaded_x = loaded_graph.get_tensor_by_name('x:0')\n",
    "        loaded_y = loaded_graph.get_tensor_by_name('y:0')\n",
    "        loaded_keep_prob = loaded_graph.get_tensor_by_name('keep_prob:0')\n",
    "        loaded_logits = loaded_graph.get_tensor_by_name('logits:0')\n",
    "        loaded_acc = loaded_graph.get_tensor_by_name('accuracy:0')\n",
    "        \n",
    "        # Get accuracy in batches for memory limitations\n",
    "        test_batch_acc_total = 0\n",
    "        test_batch_count = 0\n",
    "        \n",
    "        for test_feature_batch, test_label_batch in helper.batch_features_labels(test_features, test_labels, batch_size):\n",
    "            test_batch_acc_total += sess.run(\n",
    "                loaded_acc,\n",
    "                feed_dict={loaded_x: test_feature_batch, loaded_y: test_label_batch, loaded_keep_prob: 1.0})\n",
    "            test_batch_count += 1\n",
    "\n",
    "        print('Testing Accuracy: {}\\n'.format(test_batch_acc_total/test_batch_count))\n",
    "\n",
    "        # Print Random Samples\n",
    "        random_test_features, random_test_labels = tuple(zip(*random.sample(list(zip(test_features, test_labels)), n_samples)))\n",
    "        random_test_predictions = sess.run(\n",
    "            tf.nn.top_k(tf.nn.softmax(loaded_logits), top_n_predictions),\n",
    "            feed_dict={loaded_x: random_test_features, loaded_y: random_test_labels, loaded_keep_prob: 1.0})\n",
    "        helper.display_image_predictions(random_test_features, random_test_labels, random_test_predictions)\n",
    "\n",
    "\n",
    "test_model()"
   ]
  },
  {
   "cell_type": "markdown",
   "metadata": {},
   "source": [
    "## Why 50-80% Accuracy?\n",
    "You might be wondering why you can't get an accuracy any higher. First things first, 50% isn't bad for a simple CNN.  Pure guessing would get you 10% accuracy. However, you might notice people are getting scores [well above 80%](http://rodrigob.github.io/are_we_there_yet/build/classification_datasets_results.html#43494641522d3130).  That's because we haven't taught you all there is to know about neural networks. We still need to cover a few more techniques.\n",
    "## Submitting This Project\n",
    "When submitting this project, make sure to run all the cells before saving the notebook.  Save the notebook file as \"dlnd_image_classification.ipynb\" and save it as a HTML file under \"File\" -> \"Download as\".  Include the \"helper.py\" and \"problem_unittests.py\" files in your submission."
   ]
  }
 ],
 "metadata": {
  "kernelspec": {
   "display_name": "Python 3",
   "language": "python",
   "name": "python3"
  },
  "language_info": {
   "codemirror_mode": {
    "name": "ipython",
    "version": 3
   },
   "file_extension": ".py",
   "mimetype": "text/x-python",
   "name": "python",
   "nbconvert_exporter": "python",
   "pygments_lexer": "ipython3",
   "version": "3.4.3"
  }
 },
 "nbformat": 4,
 "nbformat_minor": 1
}
